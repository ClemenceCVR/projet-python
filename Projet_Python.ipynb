{
  "cells": [
    {
      "cell_type": "markdown",
      "metadata": {
        "id": "OZc2KuCgRVV8"
      },
      "source": [
        "### **Projet Python pour la data-science : prévision des prix de l'immobilier**"
      ]
    },
    {
      "cell_type": "markdown",
      "metadata": {
        "id": "auNITt5YRzkn"
      },
      "source": [
        "Réalisé par Clémence Chevrier et Soline Mignot"
      ]
    },
    {
      "cell_type": "markdown",
      "metadata": {
        "id": "v9WP6K3MR62a"
      },
      "source": [
        "# **1. Import des modules et des bases de données**"
      ]
    },
    {
      "cell_type": "markdown",
      "metadata": {
        "id": "Yq_LTzev-hKa"
      },
      "source": [
        "# 1.1 Import des modules"
      ]
    },
    {
      "cell_type": "code",
      "execution_count": null,
      "metadata": {
        "colab": {
          "base_uri": "https://localhost:8080/"
        },
        "id": "ihHShY77SZ2e",
        "outputId": "5ce6ad9f-cc5d-4f1c-b89d-a740fc7f56f4"
      },
      "outputs": [
        {
          "output_type": "stream",
          "name": "stdout",
          "text": [
            "Requirement already satisfied: geopandas in /usr/local/lib/python3.10/dist-packages (0.13.2)\n",
            "Requirement already satisfied: fiona>=1.8.19 in /usr/local/lib/python3.10/dist-packages (from geopandas) (1.9.5)\n",
            "Requirement already satisfied: packaging in /usr/local/lib/python3.10/dist-packages (from geopandas) (23.2)\n",
            "Requirement already satisfied: pandas>=1.1.0 in /usr/local/lib/python3.10/dist-packages (from geopandas) (1.5.3)\n",
            "Requirement already satisfied: pyproj>=3.0.1 in /usr/local/lib/python3.10/dist-packages (from geopandas) (3.6.1)\n",
            "Requirement already satisfied: shapely>=1.7.1 in /usr/local/lib/python3.10/dist-packages (from geopandas) (2.0.2)\n",
            "Requirement already satisfied: attrs>=19.2.0 in /usr/local/lib/python3.10/dist-packages (from fiona>=1.8.19->geopandas) (23.1.0)\n",
            "Requirement already satisfied: certifi in /usr/local/lib/python3.10/dist-packages (from fiona>=1.8.19->geopandas) (2023.11.17)\n",
            "Requirement already satisfied: click~=8.0 in /usr/local/lib/python3.10/dist-packages (from fiona>=1.8.19->geopandas) (8.1.7)\n",
            "Requirement already satisfied: click-plugins>=1.0 in /usr/local/lib/python3.10/dist-packages (from fiona>=1.8.19->geopandas) (1.1.1)\n",
            "Requirement already satisfied: cligj>=0.5 in /usr/local/lib/python3.10/dist-packages (from fiona>=1.8.19->geopandas) (0.7.2)\n",
            "Requirement already satisfied: six in /usr/local/lib/python3.10/dist-packages (from fiona>=1.8.19->geopandas) (1.16.0)\n",
            "Requirement already satisfied: setuptools in /usr/local/lib/python3.10/dist-packages (from fiona>=1.8.19->geopandas) (67.7.2)\n",
            "Requirement already satisfied: python-dateutil>=2.8.1 in /usr/local/lib/python3.10/dist-packages (from pandas>=1.1.0->geopandas) (2.8.2)\n",
            "Requirement already satisfied: pytz>=2020.1 in /usr/local/lib/python3.10/dist-packages (from pandas>=1.1.0->geopandas) (2023.3.post1)\n",
            "Requirement already satisfied: numpy>=1.21.0 in /usr/local/lib/python3.10/dist-packages (from pandas>=1.1.0->geopandas) (1.23.5)\n",
            "Requirement already satisfied: statsmodels in /usr/local/lib/python3.10/dist-packages (0.14.1)\n",
            "Requirement already satisfied: numpy<2,>=1.18 in /usr/local/lib/python3.10/dist-packages (from statsmodels) (1.23.5)\n",
            "Requirement already satisfied: scipy!=1.9.2,>=1.4 in /usr/local/lib/python3.10/dist-packages (from statsmodels) (1.11.4)\n",
            "Requirement already satisfied: pandas!=2.1.0,>=1.0 in /usr/local/lib/python3.10/dist-packages (from statsmodels) (1.5.3)\n",
            "Requirement already satisfied: patsy>=0.5.4 in /usr/local/lib/python3.10/dist-packages (from statsmodels) (0.5.4)\n",
            "Requirement already satisfied: packaging>=21.3 in /usr/local/lib/python3.10/dist-packages (from statsmodels) (23.2)\n",
            "Requirement already satisfied: python-dateutil>=2.8.1 in /usr/local/lib/python3.10/dist-packages (from pandas!=2.1.0,>=1.0->statsmodels) (2.8.2)\n",
            "Requirement already satisfied: pytz>=2020.1 in /usr/local/lib/python3.10/dist-packages (from pandas!=2.1.0,>=1.0->statsmodels) (2023.3.post1)\n",
            "Requirement already satisfied: six in /usr/local/lib/python3.10/dist-packages (from patsy>=0.5.4->statsmodels) (1.16.0)\n"
          ]
        }
      ],
      "source": [
        "%pip install geopandas\n",
        "%pip install statsmodels\n",
        "import statsmodels.api as sm\n",
        "import geopandas as gpd\n",
        "import matplotlib.pyplot as plt\n",
        "import numpy as np\n",
        "from geopy.distance import geodesic\n",
        "import seaborn as sns\n",
        "import scipy\n",
        "from scipy.stats import norm\n",
        "import pandas as pd"
      ]
    },
    {
      "cell_type": "code",
      "execution_count": null,
      "metadata": {
        "id": "MfWuqOmPvity"
      },
      "outputs": [],
      "source": [
        "import warnings"
      ]
    },
    {
      "cell_type": "code",
      "execution_count": null,
      "metadata": {
        "id": "e0rZ7UevP_Ok",
        "colab": {
          "base_uri": "https://localhost:8080/"
        },
        "outputId": "82895ae3-d368-4cbb-bbce-f199fe89390e"
      },
      "outputs": [
        {
          "output_type": "stream",
          "name": "stdout",
          "text": [
            "Mounted at /content/drive\n"
          ]
        }
      ],
      "source": [
        "from google.colab import drive\n",
        "import pandas as pd\n",
        "drive.mount('/content/drive')"
      ]
    },
    {
      "cell_type": "markdown",
      "metadata": {
        "id": "Y4vp5S04-wKk"
      },
      "source": [
        "# 1.2 Import des bases de données\n"
      ]
    },
    {
      "cell_type": "markdown",
      "metadata": {
        "id": "_f5Evql0-Qmi"
      },
      "source": [
        "On importe les données de demande de valeurs foncières géolocalisées depuis le site data.gouv.fr."
      ]
    },
    {
      "cell_type": "code",
      "execution_count": null,
      "metadata": {
        "id": "2dYhmeirF_gm"
      },
      "outputs": [],
      "source": [
        "url = 'https://files.data.gouv.fr/geo-dvf/latest/csv/2022/full.csv.gz'\n",
        "df= pd.read_csv(url, sep=',',low_memory=False)"
      ]
    },
    {
      "cell_type": "code",
      "execution_count": null,
      "metadata": {
        "id": "d94zh0xeh6xd"
      },
      "outputs": [],
      "source": [
        "df.head()"
      ]
    },
    {
      "cell_type": "markdown",
      "metadata": {
        "id": "30A6x7xuTxqg"
      },
      "source": [
        "# **2. Nettoyage de la base de données**"
      ]
    },
    {
      "cell_type": "markdown",
      "metadata": {
        "id": "lhcN5ZAxB858"
      },
      "source": [
        "## 2.1 Extraction des colonnes utiles"
      ]
    },
    {
      "cell_type": "markdown",
      "metadata": {
        "id": "ZUE7dFGKSzUb"
      },
      "source": [
        "Nous souhaitons nettoyer la base de données. Pour commencer, nous affichons toutes les colonnes pour pouvoir retirer celles qui nous seront inutiles."
      ]
    },
    {
      "cell_type": "code",
      "execution_count": null,
      "metadata": {
        "id": "n1sv-GuefclJ"
      },
      "outputs": [],
      "source": [
        "df.columns"
      ]
    },
    {
      "cell_type": "code",
      "execution_count": null,
      "metadata": {
        "id": "Q0XyyrtTfsLh"
      },
      "outputs": [],
      "source": [
        "df=df.drop( columns=['numero_disposition','adresse_numero', 'adresse_suffixe', 'adresse_code_voie', 'code_postal','code_nature_culture', 'nature_culture', 'code_nature_culture_speciale', 'nature_culture_speciale','id_parcelle', 'ancien_id_parcelle','numero_volume','code_type_local','lot1_numero', 'lot1_surface_carrez', 'lot2_numero','lot2_surface_carrez', 'lot3_numero', 'lot3_surface_carrez','lot4_numero', 'lot4_surface_carrez', 'lot5_numero','lot5_surface_carrez'], axis=1)"
      ]
    },
    {
      "cell_type": "code",
      "execution_count": null,
      "metadata": {
        "id": "qV6kaSHaGLu0"
      },
      "outputs": [],
      "source": [
        "df.info(null_counts= True)"
      ]
    },
    {
      "cell_type": "markdown",
      "metadata": {
        "id": "XiH-8FwaEjG6"
      },
      "source": [
        "## 2.2 Modification de la base de données en fonction des variables type_local et nature_mutation"
      ]
    },
    {
      "cell_type": "markdown",
      "metadata": {
        "id": "rtCU66ngSYdC"
      },
      "source": [
        "Maintenant, intéressons nous à la variable type_local, qui répertorie si le batîment vendu est une maison, un appartement, une dépendance ou un local industriel. Pour cela, affichons la répartition de cette variable."
      ]
    },
    {
      "cell_type": "code",
      "execution_count": null,
      "metadata": {
        "id": "QLH0TFZFEoVA"
      },
      "outputs": [],
      "source": [
        "df['type_local'].value_counts(dropna = False, normalize = True).head()"
      ]
    },
    {
      "cell_type": "code",
      "execution_count": null,
      "metadata": {
        "id": "rA0l-aUKFCK5"
      },
      "outputs": [],
      "source": [
        "plt.figure(figsize=(6,6))\n",
        "labels = ['Données manquantes', 'Maison', 'Appartement', 'Dépendance', 'Local industriel. commercial ou assimilé']\n",
        "colors = ['#ff6338','#ffd500','#92db1d','#3967db','#37dbd9']\n",
        "area = [40.6, 16.4, 13.8, 26.1, 3.1]\n",
        "explode = (0.1,0.1,0.1,0.1,0.1)\n",
        "plt.pie(area, labels=labels, explode=explode, colors= colors, startangle=60, autopct='%1.1f%%',shadow='True')\n",
        "plt.title(label= 'Répartition des types de locaux')\n",
        "plt.legend()\n",
        "plt.show()"
      ]
    },
    {
      "cell_type": "markdown",
      "metadata": {
        "id": "L7ZcfBwPT0bY"
      },
      "source": [
        "Maintenant, faisons la même chose avec la nature des mutations."
      ]
    },
    {
      "cell_type": "code",
      "execution_count": null,
      "metadata": {
        "id": "iwpeDNNSULrm"
      },
      "outputs": [],
      "source": [
        "df['nature_mutation'].value_counts(dropna = False, normalize = True).head()"
      ]
    },
    {
      "cell_type": "code",
      "execution_count": null,
      "metadata": {
        "id": "gtH6pDPCUXgj"
      },
      "outputs": [],
      "source": [
        "plt.figure(figsize=(6,6))\n",
        "labels = ['Vente', 'Vente en l état futur d achèvement', 'Echange', 'Vente terrain à bâtir','Adjudication']\n",
        "colors = ['#ff6338','#ffd500','#92db1d','#3967db','#37dbd9']\n",
        "area = [92.4,6.0,0.9,0.3,0.2]\n",
        "explode = (0.05,0.05,0.2,0.3,0.4)\n",
        "plt.pie(area, labels=labels, explode=explode, colors= colors, startangle=65, autopct='%1.1f%%',shadow='True')\n",
        "plt.title(label= 'Répartition de la nature des mutations')\n",
        "plt.legend()\n",
        "plt.show()"
      ]
    },
    {
      "cell_type": "markdown",
      "metadata": {
        "id": "Xwx_3aNlUCzD"
      },
      "source": [
        "Nous remarquons qu'il y a beaucoup de données manquantes (40.6%) pour les types de locaux. Nous décidons donc d'enlever ces données de la base, ainsi que celles correspondant à un local industriel. On souhaite également garder uniquement les données correspondant à une vente, pour ne pas inclure des transactions sur des biens qui n'ont pas encore été construits ou achevés, comme les ventes en l'état futur d'achèvement. En effet, ces transactions peuvent avoir des caractéristiques différentes de celles des biens existants, ce qui peut biaiser l'analyse si elles sont mélangées dans la même étude. On retire donc les données qui ne vont pas nous servir. De plus, nous retirons de la base de données les données dont la surface associée est de 0m² pour pouvoir calculer le prix au mètre carré correctement."
      ]
    },
    {
      "cell_type": "code",
      "execution_count": null,
      "metadata": {
        "id": "XBnhHYMVGNW_"
      },
      "outputs": [],
      "source": [
        "df=df[df['surface_reelle_bati']!=0]\n",
        "df=df.loc[df['type_local'].isin(['Maison','Appartement','Dépendance'])]\n",
        "df=df.loc[df['nature_mutation'].isin(['Vente'])]\n",
        "df=df.drop_duplicates()\n",
        "df.dropna(subset=['valeur_fonciere','surface_reelle_bati','nombre_pieces_principales'], inplace=True)"
      ]
    },
    {
      "cell_type": "markdown",
      "metadata": {
        "id": "R0WOzYtpDDzx"
      },
      "source": [
        "## 2.3 Elimination des valeurs aberrantes par prix du mètre carré"
      ]
    },
    {
      "cell_type": "markdown",
      "metadata": {
        "id": "C9M6oLVxh9CM"
      },
      "source": [
        "Maintenant, nous souhaitons calculer le prix par mètre carré dans le but d'éliminer les valeurs aberrantes."
      ]
    },
    {
      "cell_type": "code",
      "execution_count": null,
      "metadata": {
        "id": "ZAu4a9x7h3qG"
      },
      "outputs": [],
      "source": [
        "df['prix_au_metre_carre'] = df['valeur_fonciere'] / df['surface_reelle_bati']"
      ]
    },
    {
      "cell_type": "code",
      "execution_count": null,
      "metadata": {
        "id": "4s8eMGlAK1pm"
      },
      "outputs": [],
      "source": [
        "plt.figure(figsize=(10, 6))\n",
        "sns.kdeplot(df['prix_au_metre_carre'], fill=True, color='skyblue')\n",
        "plt.xlabel('prix_au_metre_carre')\n",
        "plt.ylabel('Densité')\n",
        "plt.title('Densité des Prix au metre carre avant élimination des valeurs aberrantes')\n",
        "plt.show()"
      ]
    },
    {
      "cell_type": "markdown",
      "metadata": {
        "id": "JDf00yVLerkC"
      },
      "source": [
        "La visibilité sur le prix au mètre carré que procure cette distribution n'est pas très bonne, c'est pourquoi nous allons éliminer les valeurs aberrantes, également appelées outliers. Nous allons nous baser sur l'écart interquartile, IQR, qui est la place entre le premier quartier et le troisième quartile."
      ]
    },
    {
      "cell_type": "code",
      "execution_count": null,
      "metadata": {
        "id": "TniydH6KW3Rr"
      },
      "outputs": [],
      "source": [
        "df.columns"
      ]
    },
    {
      "cell_type": "code",
      "execution_count": null,
      "metadata": {
        "id": "sRH7o9ix3mw8"
      },
      "outputs": [],
      "source": [
        "#Description des variables et élimination des valeurs aberrantes\n",
        "data=df.copy()\n",
        "data.drop(columns=['id_mutation', 'nature_mutation', 'code_commune',\n",
        "       'nom_commune', 'code_departement', 'ancien_code_commune',\n",
        "       'ancien_nom_commune', 'nombre_lots', 'type_local',\n",
        "       'longitude', 'latitude'],axis=1).describe(percentiles=[.01,.25, .5, .75, .95, .99]).apply(lambda s: s.apply('{0:.5f}'.format))"
      ]
    },
    {
      "cell_type": "code",
      "execution_count": null,
      "metadata": {
        "id": "kozTgZ8C5htj"
      },
      "outputs": [],
      "source": [
        "column='prix_au_metre_carre'\n",
        "Q1=data[column].quantile(0.25)\n",
        "Q3 = data[column].quantile(0.75)\n",
        "\n",
        "IQR = Q3 - Q1\n",
        "\n",
        "lower_bound = Q1 - 1.5 * IQR\n",
        "upper_bound = Q3 + 1.5 * IQR\n",
        "\n",
        "df= df[(df[column] >= lower_bound) & (df[column] <= upper_bound)]"
      ]
    },
    {
      "cell_type": "markdown",
      "metadata": {
        "id": "t2miDBvCIjyt"
      },
      "source": [
        "On voit que cette méthode ne retire pas de valeurs du côté inférieur de la distribution, car la distribution de la colonne 'prix_au_metre_carre' est telle que les valeurs aberrantes se trouvent principalement du côté supérieur de la distribution. Alors, la borne inférieure définie par Q1 - 1.5 * IQR est inférieure à la valeur minimale dans la colonne, n'excluant ainsi aucune valeur dans la partie inférieure."
      ]
    },
    {
      "cell_type": "code",
      "execution_count": null,
      "metadata": {
        "id": "Ln-N7vwTGWSH"
      },
      "outputs": [],
      "source": [
        "df.drop(columns=['id_mutation', 'nature_mutation', 'code_commune',\n",
        "       'nom_commune', 'code_departement', 'ancien_code_commune',\n",
        "       'ancien_nom_commune', 'nombre_lots', 'type_local',\n",
        "       'longitude', 'latitude'],axis=1).describe(percentiles=[.01,.25, .5, .75, .95, .99]).apply(lambda s: s.apply('{0:.5f}'.format))"
      ]
    },
    {
      "cell_type": "code",
      "execution_count": null,
      "metadata": {
        "id": "pYYew3MZKhmT"
      },
      "outputs": [],
      "source": [
        "plt.figure(figsize=(10, 6))\n",
        "sns.kdeplot(df['prix_au_metre_carre'], fill=True, color='skyblue')\n",
        "plt.xlabel('Prix au metre carre')\n",
        "plt.ylabel('Densité')\n",
        "plt.title('Densité des Prix au metre carre après élimination des valeurs aberrantes')\n",
        "plt.show()"
      ]
    },
    {
      "cell_type": "markdown",
      "metadata": {
        "id": "m-PcyFy-E_1u"
      },
      "source": [
        "# **3. Statistiques descriptives**\n"
      ]
    },
    {
      "cell_type": "markdown",
      "metadata": {
        "id": "8VRhXCzKFau7"
      },
      "source": [
        "## 3.1 Premières statistiques"
      ]
    },
    {
      "cell_type": "markdown",
      "metadata": {
        "id": "Bg9ZM-CiFtTb"
      },
      "source": [
        "Dans la suite de notre projet, nous aurons besoin d'avoir une base de données uniquement dédiée à l'Ile de France. Alors, nous avons décidé d'avoir deux bases de données, une pour l'Ile de France, et une pour toute la France."
      ]
    },
    {
      "cell_type": "markdown",
      "metadata": {
        "id": "MtsdMr8fGB2W"
      },
      "source": [
        "### 3.1.1 Statistiques sur la France entière"
      ]
    },
    {
      "cell_type": "code",
      "execution_count": null,
      "metadata": {
        "id": "nQME6w0uE_Xv"
      },
      "outputs": [],
      "source": [
        "df['valeur_fonciere'].describe()"
      ]
    },
    {
      "cell_type": "markdown",
      "metadata": {
        "id": "3aTkTPo_GbPV"
      },
      "source": [
        "Après avoir éliminé les valeurs aberrantes, on remarque que le prix moyen d'un bien immobilier en France est de 231 105 €, avec un prix maximal de 8 403 500€, ce qui parait plutôt cohérent. Cependant, le prix minimal est de 0.15€, ce qui détonne avec les prix du marché, et peut être dû à un prix symbolique ou à un programme de subvention."
      ]
    },
    {
      "cell_type": "markdown",
      "metadata": {
        "id": "l5St461bJ_oa"
      },
      "source": [
        "Nous avons aperçu la répartition des prix au mètre carré lorsque nous avons éliminé les valeurs aberrantes plus tôt, mais maintenant, traçons la répartition des valeurs foncières en France."
      ]
    },
    {
      "cell_type": "code",
      "execution_count": null,
      "metadata": {
        "id": "db2zWtJnKS1y"
      },
      "outputs": [],
      "source": [
        "plt.figure(figsize=(10, 6))\n",
        "sns.kdeplot(df['valeur_fonciere'], fill=True, color='skyblue')\n",
        "plt.xlabel('Valeur foncière')\n",
        "plt.ylabel('Densité')\n",
        "plt.title('Densité des valeurs foncières')\n",
        "plt.show()"
      ]
    },
    {
      "cell_type": "code",
      "execution_count": null,
      "metadata": {
        "id": "E2tAvB2EM3ZF"
      },
      "outputs": [],
      "source": [
        "quantile_value = np.percentile(df['valeur_fonciere'], 98)\n",
        "quantile_value"
      ]
    },
    {
      "cell_type": "code",
      "execution_count": null,
      "metadata": {
        "id": "U0la93tAvmt-"
      },
      "outputs": [],
      "source": [
        "len(df.loc[df['valeur_fonciere']<400000])/len(df) * 100"
      ]
    },
    {
      "cell_type": "markdown",
      "metadata": {
        "id": "HaByVuFjuT4r"
      },
      "source": [
        "On observe avec les calculs ci-dessus, que 87.5% des biens ont un prix inférieur à 400 000€ et que seuls 2% o,t un prix supérieur à 750 000€. Nous allons donc tracer les distributions de prix selon ces seuils."
      ]
    },
    {
      "cell_type": "code",
      "execution_count": null,
      "metadata": {
        "id": "0W4-4K9EuwFy"
      },
      "outputs": [],
      "source": [
        "warnings.simplefilter('ignore')\n",
        "\n",
        "fig, axs = plt.subplots(ncols=3, figsize=(20, 7))\n",
        "\n",
        "ax0 = sns.distplot(df[df['valeur_fonciere'] <= 400000]['valeur_fonciere'], ax=axs[0])\n",
        "ax0.set_title('Distribution des prix inférieurs à 400 000 euros')\n",
        "\n",
        "ax1 = sns.distplot(df[(df['valeur_fonciere'] > 400000) & (df['valeur_fonciere'] <= 750000)]['valeur_fonciere'], ax=axs[1])\n",
        "ax1.set_title('Distribution des prix entre 400 000 euros et 750000 euros')\n",
        "\n",
        "ax2 = sns.distplot(df[df['valeur_fonciere'] > 750000]['valeur_fonciere'], ax=axs[2])\n",
        "ax2.set_title('Distribution des prix supérieurs à 750 000 euros')\n"
      ]
    },
    {
      "cell_type": "markdown",
      "metadata": {
        "id": "dQb_IrurynYD"
      },
      "source": [
        "On remarque que peu importe comment on décide de considérer la partie très supérieure, ici celle dans les 2%, il y a toujours des biens dont le prix est beaucoup plus élevé, atteignant 8 millions d'euros."
      ]
    },
    {
      "cell_type": "markdown",
      "metadata": {
        "id": "Ua1u0ZWTzajd"
      },
      "source": [
        "Nous souhaitons alors savoir ce qui influence le plus le prix d'un bien immobilier. Nous avons pensé à des facteurs tels que : la superficie du bien, le nombre de chambres, sa localisation, sa proximité à des stations de métro, sa proximité à des espaces verts..."
      ]
    },
    {
      "cell_type": "markdown",
      "metadata": {
        "id": "DP_mKOCAIF7M"
      },
      "source": [
        "### 3.1.1.1 Modélisation d'une carte de France selon le prix du mètre carré"
      ]
    },
    {
      "cell_type": "markdown",
      "metadata": {
        "id": "RMGsxJP70cKx"
      },
      "source": [
        "Nous avons donc premièrement décidé de modéliser une carte de France selon le prix médian au mètre carré, pour avoir un aperçu de la répartition des biens."
      ]
    },
    {
      "cell_type": "markdown",
      "metadata": {
        "id": "kP-ftbt3NPqd"
      },
      "source": [
        "Nous souhaitons maintenant afficher le prix du mètre carré en fonction du département. Pour cela, nous allons réaliser une médiane par département, et l'afficher sur une carte de France. En effet, la médiane permet d'être plus proche de la réalité car elle est moins affectée par les valeurs extrêmes."
      ]
    },
    {
      "cell_type": "code",
      "execution_count": null,
      "metadata": {
        "id": "j8bsQTldIWCP"
      },
      "outputs": [],
      "source": [
        "#On importe des données sur les départements\n",
        "france = gpd.read_file('/content/drive/MyDrive/2A_Python pour la data science/departements-version-simplifiee.geojson')\n",
        "france.head(5)"
      ]
    },
    {
      "cell_type": "code",
      "execution_count": null,
      "metadata": {
        "id": "Bvk2mvT3IxkM"
      },
      "outputs": [],
      "source": [
        "#On nettoie les données pour garder uniquement le code du département, la surface réelle du batiment et sa valeur foncière\n",
        "df_carte = df[['code_departement', 'surface_reelle_bati', 'valeur_fonciere','prix_au_metre_carre']]"
      ]
    },
    {
      "cell_type": "code",
      "execution_count": null,
      "metadata": {
        "id": "cly0RzI3JDFs"
      },
      "outputs": [],
      "source": [
        "#On retire les NaN\n",
        "df_carte = df_carte.dropna()"
      ]
    },
    {
      "cell_type": "code",
      "execution_count": null,
      "metadata": {
        "id": "o71DwXVYJ9Uc"
      },
      "outputs": [],
      "source": [
        "print(df_carte.dtypes)\n",
        "#On s'aperçoit que la valeur foncière n'est pas un float, et que le prix est avec une virgule, donc on va remplacer cette virgule par un point puis convertir en float"
      ]
    },
    {
      "cell_type": "code",
      "execution_count": null,
      "metadata": {
        "id": "rsk5JG-CKA-l"
      },
      "outputs": [],
      "source": [
        "#df_carte['Valeur fonciere'] = pd.to_numeric(df_carte['Valeur fonciere'].str.replace(',', '.'), errors='coerce')\n"
      ]
    },
    {
      "cell_type": "code",
      "execution_count": null,
      "metadata": {
        "id": "E3TpnwDQKwtp"
      },
      "outputs": [],
      "source": [
        "#On calcule la médiane par département\n",
        "mediane_par_departement = df_carte.groupby('code_departement')['prix_au_metre_carre'].median().reset_index()"
      ]
    },
    {
      "cell_type": "code",
      "execution_count": null,
      "metadata": {
        "id": "IItQT6QRK-CT"
      },
      "outputs": [],
      "source": [
        "#On joint les données des deux dataframe sur le code département\n",
        "merged_data = france.merge(mediane_par_departement, how='left', left_on='code', right_on='code_departement')"
      ]
    },
    {
      "cell_type": "code",
      "execution_count": null,
      "metadata": {
        "id": "II6nBlCwX-F8"
      },
      "outputs": [],
      "source": [
        "merged_data.head(5)"
      ]
    },
    {
      "cell_type": "code",
      "execution_count": null,
      "metadata": {
        "id": "yeBUiKR3LHo4"
      },
      "outputs": [],
      "source": [
        "fig, ax = plt.subplots(1, 1, figsize=(15, 10))\n",
        "merged_data.plot(column='prix_au_metre_carre', cmap='YlOrRd', linewidth=0.8, ax=ax, edgecolor='0.8', legend=True)\n",
        "ax.set_title('Médiane du mètre carré par département en France (2022)')\n",
        "ax.set_axis_off()\n",
        "plt.show()"
      ]
    },
    {
      "cell_type": "markdown",
      "metadata": {
        "id": "QdrBRinii25C"
      },
      "source": [
        "Nous avons donc vu qu'il y a un lien important entre la localisation de l'habitation et son prix. Plus particulièrement, nous observons que la région Ile de France semble être beaucoup plus chère. C'est pourquoi, nous avons décidé de réaliser d'autres statistiques sur l'Ile de France uniquement.\n",
        "\n",
        "\n",
        "Maintenant, nous souhaitons savoir si, à plus petite échelle, celle d'une ville, la proximité de certains établissements influe sur le prix de l'immobilier."
      ]
    },
    {
      "cell_type": "markdown",
      "metadata": {
        "id": "EehI2I2C1sjv"
      },
      "source": [
        "## 3.1.2 Statistiques sur l'Ile de France"
      ]
    },
    {
      "cell_type": "markdown",
      "metadata": {
        "id": "FMoi7K3rRGd0"
      },
      "source": [
        "On restreint le data frame à l'Ile de France."
      ]
    },
    {
      "cell_type": "code",
      "execution_count": null,
      "metadata": {
        "id": "ilScUGuMNCB_"
      },
      "outputs": [],
      "source": [
        "departements_idf = ['75', '77', '78', '91', '92', '93', '94', '95']\n",
        "df_idf = df[df['code_departement'].astype(str).isin(departements_idf)]\n"
      ]
    },
    {
      "cell_type": "code",
      "execution_count": null,
      "metadata": {
        "id": "wVd74cDR15jh"
      },
      "outputs": [],
      "source": [
        "df_idf['valeur_fonciere'].describe()"
      ]
    },
    {
      "cell_type": "code",
      "execution_count": null,
      "metadata": {
        "id": "IsBAJSbc2yqc"
      },
      "outputs": [],
      "source": [
        "df_idf['prix_au_metre_carre'].describe()"
      ]
    },
    {
      "cell_type": "code",
      "execution_count": null,
      "metadata": {
        "id": "W1dlcsrr20D0"
      },
      "outputs": [],
      "source": [
        "df['prix_au_metre_carre'].describe()"
      ]
    },
    {
      "cell_type": "markdown",
      "metadata": {
        "id": "1N_Ul6Cs2ThS"
      },
      "source": [
        "On remarque que le prix moyen d'un bien immobilier en Ile de France est de 315 061€, contre 231 105 € pour la moyenne française, soit presque 85 000€ d'écart. On pourrait croire à une différence dans la superficie des biens, mais c'est bien le prix au mètre carré qui diffère totalement, avec une moyenne de 4328€/m² en Ile de France et 2873€/m² sur la France entière."
      ]
    },
    {
      "cell_type": "code",
      "execution_count": null,
      "metadata": {
        "id": "b0TXs_kx4BId"
      },
      "outputs": [],
      "source": [
        "plt.figure(figsize=(10, 6))\n",
        "sns.kdeplot(df_idf['valeur_fonciere'], fill=True, color='skyblue')\n",
        "plt.xlabel('Valeur foncière')\n",
        "plt.ylabel('Densité')\n",
        "plt.title('Densité des valeurs foncières en Ile de France')\n",
        "plt.show()"
      ]
    },
    {
      "cell_type": "code",
      "execution_count": null,
      "metadata": {
        "id": "ot4_UPGE4MXF"
      },
      "outputs": [],
      "source": [
        "len(df_idf.loc[df_idf['valeur_fonciere']<510000])/len(df_idf) * 100"
      ]
    },
    {
      "cell_type": "markdown",
      "metadata": {
        "id": "d1DoeltF4hc_"
      },
      "source": [
        "On remarque que cette fois-ci, le seuil défini plus haut (de 87.5%) est atteint avec une valeur_fonciere de 510 000€, soit 110 000€ de plus que dans la France entière."
      ]
    },
    {
      "cell_type": "markdown",
      "metadata": {
        "id": "EdcBYoIp47Y3"
      },
      "source": [
        "Ainsi, avec ces premières statistiques, nous savons que la localisation est un facteur corrélé avec la valeur foncière d'un bien."
      ]
    },
    {
      "cell_type": "markdown",
      "metadata": {
        "id": "Y5hdF2_Za7Tf"
      },
      "source": [
        "#**4. Corrélation entre les variables**"
      ]
    },
    {
      "cell_type": "markdown",
      "metadata": {
        "id": "PwHgYItoove8"
      },
      "source": [
        "##4.1 Variables quantitatives"
      ]
    },
    {
      "cell_type": "markdown",
      "metadata": {
        "id": "1GO90MdGfEiF"
      },
      "source": [
        "La base de données sur les valeurs foncières est composée des variables suivantes. Nous souhaiterions avoir davantage de variables quantitatives pour pouvoir trouver des corrélations numériques. Pour cela, nous devons transformer le type de certaines variables et également en créer d'autres."
      ]
    },
    {
      "cell_type": "code",
      "execution_count": null,
      "metadata": {
        "id": "GBa8zC47hje0"
      },
      "outputs": [],
      "source": [
        "df.dtypes"
      ]
    },
    {
      "cell_type": "code",
      "execution_count": null,
      "metadata": {
        "id": "CfyVTXKejGfY"
      },
      "outputs": [],
      "source": [
        "df['code_departement'].unique()"
      ]
    },
    {
      "cell_type": "markdown",
      "metadata": {
        "id": "E9ngs1glipjB"
      },
      "source": [
        "Pour commencer, il s'agit de transformer le code_departement en un entier pour qu'il soit une variable quantitative. Cependant, nous rencontrons un problème avec la Corse et ses départements 2A et 2B. Nous décidons alors de les retirer du data frame, ainsi que les départements d'outre mer, car ils ne représentent que 19 000 données sur plus d'un million."
      ]
    },
    {
      "cell_type": "code",
      "execution_count": null,
      "metadata": {
        "id": "Dg_Jwl3WlW0u"
      },
      "outputs": [],
      "source": [
        "count_departments = df['code_departement'].isin(['971', '972', '973', '974','2A','2B']).sum()\n",
        "count_total = len(df)\n",
        "print(count_departments, count_total)"
      ]
    },
    {
      "cell_type": "code",
      "execution_count": null,
      "metadata": {
        "id": "_7fPOXG0l2Rk"
      },
      "outputs": [],
      "source": [
        "df = df[~df['code_departement'].isin(['971', '972', '973', '974','2A','2B'])]\n",
        "df['code_departement'] = df['code_departement'].astype(int)\n",
        "df['code_commune'] = df['code_commune'].astype(int)"
      ]
    },
    {
      "cell_type": "markdown",
      "metadata": {
        "id": "SivSPQORmxxX"
      },
      "source": [
        "Ensuite, on ajoute le mois de vente à partir de la colonne date_mutation pour ensuite voir si elle a un impact sur la valeur foncière."
      ]
    },
    {
      "cell_type": "code",
      "execution_count": null,
      "metadata": {
        "id": "GVPuMptmjI9u"
      },
      "outputs": [],
      "source": [
        "df['mois_vente'] = df['date_mutation'].str[-2:]\n",
        "df['mois_vente'] = df['mois_vente'].astype(int)"
      ]
    },
    {
      "cell_type": "markdown",
      "metadata": {
        "id": "LEIbiA4kmqNK"
      },
      "source": [
        "Ensuite, on ne garde que les variables quantitatives."
      ]
    },
    {
      "cell_type": "code",
      "execution_count": null,
      "metadata": {
        "id": "_iwf8YEqfXNN"
      },
      "outputs": [],
      "source": [
        "df_num = df.select_dtypes(include = ['float64', 'int64'])\n",
        "df_num = df_num.drop('ancien_code_commune', axis=1)\n",
        "df_num.head()"
      ]
    },
    {
      "cell_type": "code",
      "execution_count": null,
      "metadata": {
        "id": "4JMq6Sq2pZwZ"
      },
      "outputs": [],
      "source": [
        "sns.set_theme(style=\"white\")\n",
        "\n",
        "corr = df_num.corr()\n",
        "\n",
        "# Génération d'un masque pour la partie supérieure du triangle\n",
        "mask = np.triu(np.ones_like(corr, dtype=bool))\n",
        "f, ax = plt.subplots(figsize=(11, 9))\n",
        "\n",
        "# Création d'une palette de couleurs\n",
        "cmap = sns.color_palette(\"vlag\", as_cmap=True)\n",
        "\n",
        "# Tracé de la heatmap\n",
        "sns.heatmap(corr, mask=mask, cmap=cmap, vmax=.3, center=0,\n",
        "            square=True, linewidths=.5, cbar_kws={\"shrink\": .5})"
      ]
    },
    {
      "cell_type": "markdown",
      "metadata": {
        "id": "lq8NoKXGryYa"
      },
      "source": [
        "Cherchons les variables numériques les plus corrélées au prix et classons-les. Les variables les plus corrélées au prix sont alors le prix au mètre carré, la surface réelle du batiment ainsi que le nombre de pièces."
      ]
    },
    {
      "cell_type": "code",
      "execution_count": null,
      "metadata": {
        "id": "d8VOkCHwryC3"
      },
      "outputs": [],
      "source": [
        "var_quanti_corr = df_num.corr()['valeur_fonciere']\n",
        "var_plus_corr = var_quanti_corr.sort_values(ascending=False)\n",
        "print(var_plus_corr)"
      ]
    },
    {
      "cell_type": "markdown",
      "metadata": {
        "id": "6W3YGbkEo39x"
      },
      "source": [
        "##4.2 Variables qualitatives"
      ]
    },
    {
      "cell_type": "markdown",
      "metadata": {
        "id": "Pz1esdI52cIe"
      },
      "source": [
        "###4.2.1 La variable type_local"
      ]
    },
    {
      "cell_type": "markdown",
      "metadata": {
        "id": "Dr8S_z_qtTNB"
      },
      "source": [
        "Nous souhaitons également connaitre la corrélation entre la valeur foncière d'un bien et certaines variables qualitatives, comme le type de bien (Appartement, Maison). Pour ce faire, nous avons utilisé la corrélaion de Spearman, qui permet d'évaluer la relation monotone entre deux variables, l'une quantitative et l'autre qualitative, ici valeur_fonciere et type_local. Elle donne une mesure de la force et de la direction de la relation entre les deux variables. Ici, le coefficient de corrélation est 0.17 et est positif, ce qui suggère qu'une augmentation de la valeur foncière est conjointement lié à une augmentation du type de local, d'appartement vers maison."
      ]
    },
    {
      "cell_type": "code",
      "execution_count": null,
      "metadata": {
        "id": "wIQLW-2avJ2N"
      },
      "outputs": [],
      "source": [
        "from scipy.stats import spearmanr\n",
        "\n",
        "# Calcul de la corrélation de Spearman\n",
        "correlation_coefficient, p_value = spearmanr(df['valeur_fonciere'], df['type_local'])\n",
        "print(f\"Corrélation de Spearman : {correlation_coefficient}\")\n",
        "print(f\"P-valeur : {p_value}\")"
      ]
    },
    {
      "cell_type": "code",
      "execution_count": null,
      "metadata": {
        "id": "dA6mOLEkPUkG"
      },
      "outputs": [],
      "source": [
        "valeurs_non_numeriques = pd.to_numeric(df['valeur_fonciere'], errors='coerce').isnull()\n",
        "df[valeurs_non_numeriques]['valeur_fonciere']"
      ]
    },
    {
      "cell_type": "markdown",
      "metadata": {
        "id": "r8VVNCCrzzUV"
      },
      "source": [
        "De plus, nous effectuons un t test pour comparer les moyennes des deux groupes, Maison et Appartement.  "
      ]
    },
    {
      "cell_type": "code",
      "execution_count": null,
      "metadata": {
        "id": "rxyBm1CS0aSq"
      },
      "outputs": [],
      "source": [
        "from scipy.stats import ttest_ind\n",
        "\n",
        "# Sélectionner les données pour 'Maison' et 'Appartement'\n",
        "maison = df[df['type_local'] == 'Maison']['valeur_fonciere']\n",
        "appartement = df[df['type_local'] == 'Appartement']['valeur_fonciere']\n",
        "\n",
        "# Test t indépendant pour comparer les moyennes\n",
        "t_statistic, p_value_t = ttest_ind(maison, appartement)\n",
        "\n",
        "print(f\"Test t - Statistique t : {t_statistic}, p-valeur : {p_value_t}\")"
      ]
    },
    {
      "cell_type": "markdown",
      "metadata": {
        "id": "AHdrxbqQ1ZHF"
      },
      "source": [
        "La t-statistique mesure la différence entre les moyennes des deux groupes standardisée par l'erreur standard. Alors, une valeur de 186 indique une différence très importante entre les moyennes. De plus, la p-valeur est la probabilité d'observer une statistique t aussi extrême (ou plus) si l'hypothèse nulle était vraie (c'est-à-dire si les moyennes réelles des groupes étaient égales). La p-valeur étant de 0, et donc inférieure à 0.05, cela signifie que la probabilité d'observer une telle différence par hasard est pratiquement nulle.\n",
        "\n"
      ]
    },
    {
      "cell_type": "markdown",
      "metadata": {
        "id": "sMtg6iGc11RF"
      },
      "source": [
        "**Pour conclure, ces résultats suggèrent fortement que les moyennes des groupes \"Maison\" et \"Appartement\" sont significativement différentes l'une de l'autre pour la variable valeur_fonciere.**"
      ]
    },
    {
      "cell_type": "markdown",
      "metadata": {
        "id": "ZKz_mAmZ2h2L"
      },
      "source": [
        "###4.2.2 La variable type_voie"
      ]
    },
    {
      "cell_type": "markdown",
      "metadata": {
        "id": "t-mba4Y62nCl"
      },
      "source": [
        "Nous ne disposons pas directement du type de voie dans lequel le bien immobilier se situe, c'est pourquoi nous allons devoir extraire cette information des autres colonnes."
      ]
    },
    {
      "cell_type": "code",
      "execution_count": null,
      "metadata": {
        "id": "SIqL05ce9PmT"
      },
      "outputs": [],
      "source": [
        "df.head()"
      ]
    },
    {
      "cell_type": "markdown",
      "metadata": {
        "id": "kIxV_jIaAx3_"
      },
      "source": [
        "Pour cela, nous prenons le premier mot de la colonne adresse_nom_voie et on ne garde que les lignes qui correspondent à des rues, avenues, boulevards, chemins, routes, places, allées ou impasses. Les autres types sont souvent des lieux dits, sans adresse précise. En réduisant ce dataframe, on reste tout de même à presque un million de données."
      ]
    },
    {
      "cell_type": "code",
      "execution_count": null,
      "metadata": {
        "id": "fofNwKG5-neM"
      },
      "outputs": [],
      "source": [
        "df['type_voie'] = df['adresse_nom_voie'].str.split().str[0]"
      ]
    },
    {
      "cell_type": "code",
      "execution_count": null,
      "metadata": {
        "id": "jGg0J83u-sUQ"
      },
      "outputs": [],
      "source": [
        "df_voie = df[df['type_voie'].isin(['RUE', 'AV', 'BD', 'CHE', 'RTE', 'PL', 'ALL', 'IMP'])]"
      ]
    },
    {
      "cell_type": "code",
      "execution_count": null,
      "metadata": {
        "id": "827tNMC9AWZi"
      },
      "outputs": [],
      "source": [
        "df_voie.shape[0]"
      ]
    },
    {
      "cell_type": "markdown",
      "metadata": {
        "id": "e-QQUH_PuZAy"
      },
      "source": [
        "On renomme les types de voies."
      ]
    },
    {
      "cell_type": "code",
      "execution_count": null,
      "metadata": {
        "id": "V_Us_8IlrPj7"
      },
      "outputs": [],
      "source": [
        "mapping_types_voie = {'RUE': 'Rue', 'RTE': 'Route', 'PL': 'Place', 'AV': 'Avenue', 'BD': 'Boulevard', 'CHE': 'Chemin', 'ALL': 'Allée', 'IMP': 'Impasse'}\n",
        "df_voie['type_voie'] = df_voie['type_voie'].replace(mapping_types_voie)"
      ]
    },
    {
      "cell_type": "code",
      "execution_count": null,
      "metadata": {
        "id": "GX7lfn-TrDgc"
      },
      "outputs": [],
      "source": [
        "df_voie.head()"
      ]
    },
    {
      "cell_type": "markdown",
      "metadata": {
        "id": "BLNqJVdIEd2f"
      },
      "source": [
        "Simplement avec ces boîtes à moustaches, on peut constater que les médianes des valeurs foncières entre les différents types de voies diffèrent très largement. Cependant, nous souhaitons en extraire un coefficient de corrélation pour savoir si le type de voie est corrélé au prix."
      ]
    },
    {
      "cell_type": "code",
      "execution_count": null,
      "metadata": {
        "id": "zddZm-JKB2za"
      },
      "outputs": [],
      "source": [
        "# Création de boxplots pour chaque catégorie de type_voie\n",
        "plt.figure(figsize=(12, 8))\n",
        "ax = sns.boxplot(x='type_voie', y='valeur_fonciere', data=df_voie)\n",
        "\n",
        "# Annotation des boîtes avec les médianes\n",
        "medians = df_voie.groupby('type_voie')['valeur_fonciere'].median()\n",
        "medians_dict = medians.to_dict()\n",
        "\n",
        "for cat, median_value in medians_dict.items():\n",
        "    ax.text(list(medians.index).index(cat),\n",
        "            median_value + ax.get_ylim()[1]*0.02,  # Ajuster la position verticale\n",
        "            f'{median_value:.2f}',\n",
        "            ha='center', va='bottom', color='black', fontsize=9)\n",
        "\n",
        "# Ajout d'un texte supplémentaire\n",
        "ax.text(1, -0.15, 'Les annotations représentent les médianes', ha='right', va='bottom', color='black', fontsize=12, transform=ax.transAxes)\n",
        "\n",
        "plt.title('Distribution de la valeur_fonciere par type_voie', fontsize=14)  # Ajuster la taille du titre\n",
        "plt.show()"
      ]
    },
    {
      "cell_type": "markdown",
      "metadata": {
        "id": "IuNjWdhis9Zh"
      },
      "source": [
        "Nous nous sommes heurtés à de nombreux problème quant au coefficient de corrélation entre les variables valeur_fonciere, quantitative, et type_voie, elle qualitative, car contrairement à type_local, la variable n'est pas binaire et comporte 8 niveaux. Après avoir étudié les méthodes ANOVA juste en dessous, qui ne testait que la variation des moyennes entre plusieurs groupes, nous nous sommes penchés sur l'Analyse de Corrélation Canonique (CCA), qui nous a permis de tirer un coefficient de corrélation. En effet, la CCA est une méthode puissante pour évaluer les relations linéaires complexes entre des ensembles de variables multiples."
      ]
    },
    {
      "cell_type": "markdown",
      "metadata": {
        "id": "R86_pngjuqxq"
      },
      "source": [
        "ANOVA (Analysis of Variance) : permet de comparer les moyennes de trois groupes ou plus afin de déterminer s'il existe des différences significatives entre eux"
      ]
    },
    {
      "cell_type": "code",
      "execution_count": null,
      "metadata": {
        "id": "AhDF9Y5ZN1pI"
      },
      "outputs": [],
      "source": [
        "from scipy.stats import f_oneway\n",
        "\n",
        "# Supposons que df_voie contient vos données\n",
        "resultats_anova = f_oneway(*[df_voie['valeur_fonciere'][df_voie['type_voie'] == cat] for cat in df_voie['type_voie'].unique()])\n",
        "\n",
        "# Afficher le résultat\n",
        "print(\"Statistique F :\", resultats_anova.statistic)\n",
        "print(\"P-valeur :\", resultats_anova.pvalue)"
      ]
    },
    {
      "cell_type": "markdown",
      "metadata": {
        "id": "qZ1FSz_lvB4F"
      },
      "source": [
        "La statistique F étant de 4189, cela indique une grande variation entre les groupes par rapport à la variation à l'intérieur des groupes. La p-value de 0 suggère qu'il faut rejeter l'hypothèses nulle et ainsi, les moyennes des groupes ne sont pas égales. Cependant, cela ne nous donne pas le coefficient de corrélation. Passons donc à la méthode CCA. On crée un dataframe one_hot_encoded où chaque catégorie unique présente dans la colonne \"type_voie\" devient une nouvelle colonne binaire. Chaque colonne binaire indique la présence ou l'absence de la catégorie respective pour chaque ligne du dataframe original."
      ]
    },
    {
      "cell_type": "code",
      "execution_count": null,
      "metadata": {
        "id": "6mWe6dXjrejM"
      },
      "outputs": [],
      "source": [
        "from sklearn.cross_decomposition import CCA\n",
        "\n",
        "# On convertit la colonne en un type de données catégorielles (qualitatives)\n",
        "df_voie['type_voie'] = df_voie['type_voie'].astype('category')\n",
        "\n",
        "# Création d'un encodage one-hot pour la variable qualitative\n",
        "one_hot_encoded = pd.get_dummies(df_voie['type_voie'], prefix='voie')\n",
        "\n",
        "# Concaténation des données\n",
        "df_combined = pd.concat([df_voie['valeur_fonciere'], one_hot_encoded], axis=1)\n",
        "\n",
        "# Séparation les variables indépendantes et dépendantes\n",
        "X = df_combined.drop('valeur_fonciere', axis=1)\n",
        "y = df_combined['valeur_fonciere']\n",
        "\n",
        "# Analyse de corrélation canonique (CCA)\n",
        "cca = CCA(n_components=1)\n",
        "cca.fit(X, y)\n",
        "\n",
        "# Transformations des données et obtention des composantes canoniques\n",
        "cca_transformed = cca.transform(X, y) # Contient les projections des données dans l'espace des composantes canoniques\n",
        "cca_coefficients = cca_transformed[0] # Première composante canonique, car on a choisi \"n_components=1\"\n",
        "\n",
        "# Affichage du résultat\n",
        "print(\"Coefficient de corrélation canonique:\", cca_coefficients[0][0])"
      ]
    },
    {
      "cell_type": "markdown",
      "metadata": {
        "id": "r6d5K0711ohg"
      },
      "source": [
        "La première composante canonique est une nouvelle variable (ou axe) qui est créée à partir des variables originales de manière à capturer le maximum de la corrélation entre les deux ensembles X et Y. Cette composante canonique est une expression mathématique définie par des coefficients (poids) attribués à chaque variable dans les ensembles X et Y.Ainsi, -0,61 indique la force et la direction de la corrélation maximale entre la première composante canonique et valeur_fonciere."
      ]
    },
    {
      "cell_type": "code",
      "execution_count": null,
      "metadata": {
        "id": "8z4IX-gowmLz"
      },
      "outputs": [],
      "source": [
        "df_combined.head()"
      ]
    },
    {
      "cell_type": "markdown",
      "metadata": {
        "id": "tE0QzL7uwLSw"
      },
      "source": [
        "Alors, lorsqu'on observe une transition d'une catégorie à une autre dans la variable catégorielle \"type_voie\", on s'attend à une variation dans les valeurs de \"valeur_fonciere\" en fonction du coefficient de corrélation canonique."
      ]
    },
    {
      "cell_type": "code",
      "execution_count": null,
      "metadata": {
        "id": "-V-otFapJ7fX"
      },
      "outputs": [],
      "source": [
        "df_voie = df_voie.dropna(subset=['type_voie', 'valeur_fonciere'])"
      ]
    },
    {
      "cell_type": "markdown",
      "metadata": {
        "id": "14NFfijQ5gTx"
      },
      "source": [
        "# **5. Réduction de l'analyse à Paris pour l'ajout de variables explicatives**"
      ]
    },
    {
      "cell_type": "markdown",
      "metadata": {
        "id": "Q7UIwG5p7JxM"
      },
      "source": [
        "##5.1 Ajout de la variable de distance à une station de métro ou RER"
      ]
    },
    {
      "cell_type": "markdown",
      "metadata": {
        "id": "A47XfQ_J6ywj"
      },
      "source": [
        "On s'intéresse maintenant à Paris intramuros pour essayer de prédire les prix. Pour cela, nous choisissons de voir si la proximité d'une station de métro ou RER est liée à la valeur foncière. Pour cela, nous importons les données des gares depuis data.gouv.fr et nous en créons un dataframe."
      ]
    },
    {
      "cell_type": "code",
      "execution_count": null,
      "metadata": {
        "id": "y1mbrq4Y63m2"
      },
      "outputs": [],
      "source": [
        "# Emplacement des gares en Ile-de-France\n",
        "path = '/content/drive/MyDrive/2A_Python pour la data science/'\n",
        "df_stations= pd.read_csv(path+'emplacement-des-gares-idf.csv', sep=';',low_memory=False)\n",
        "df_stations.head(5)"
      ]
    },
    {
      "cell_type": "code",
      "execution_count": null,
      "metadata": {
        "id": "SaY_Lvu483WU"
      },
      "outputs": [],
      "source": [
        "df_stations=df_stations.drop(['id_gares','nom_so_gar',\n",
        "       'nom_su_gar','id_ref_zdc','nom_zdc', 'id_ref_zda', 'nom_zda','idrefliga', 'idrefligc','tertrain',\n",
        "       'terrer', 'termetro', 'tertram', 'terval', 'exploitant','idf',\n",
        "       'principal','picto', 'nom_iv','x','y'],axis=1)"
      ]
    },
    {
      "cell_type": "code",
      "execution_count": null,
      "metadata": {
        "id": "Rd_Zq23IMRWd"
      },
      "outputs": [],
      "source": [
        "df_idf"
      ]
    },
    {
      "cell_type": "markdown",
      "metadata": {
        "id": "Ls3YhZ0aL1Mz"
      },
      "source": [
        "On veut calculer la distance à la gare la plus proche en Ile de France, donc on retire les lignes qui ont une latitude ou une longitude manquante."
      ]
    },
    {
      "cell_type": "code",
      "execution_count": null,
      "metadata": {
        "id": "mwVzreiCVj92"
      },
      "outputs": [],
      "source": [
        "df_idf = df_idf.dropna(subset=['latitude', 'longitude'])\n",
        "df_stations = df_stations.dropna(subset=['geo_point_2d'])"
      ]
    },
    {
      "cell_type": "markdown",
      "metadata": {
        "id": "D-WRtxmvRz_X"
      },
      "source": [
        "Calculons la distance à la gare la plus proche. Vu le nombre de calcul à faire pour pouvoir avoir ces distances, le programme prend 1h20. Ce n'est pas un calcul que l'on va donc refaire à chaque fois. Par conséquent, on va sauvergarder ces informations sur un fichier annexe duquel on puisera l'information à chaque fois."
      ]
    },
    {
      "cell_type": "code",
      "execution_count": null,
      "metadata": {
        "id": "daV3SxbqcVdq"
      },
      "outputs": [],
      "source": [
        "\n",
        "#def find_nearest_station(apartment, stations_df):\n",
        "#    apartment_coords = (apartment['latitude'], apartment['longitude'])\n",
        "#    distances = stations_df.apply(lambda row: geodesic(apartment_coords, row['geo_point_2d']).meters, axis=1)\n",
        "#    nearest_station_index = distances.idxmin()\n",
        "#    nearest_station = stations_df.loc[nearest_station_index, 'nom_gares']\n",
        "#    return (nearest_station,distances[nearest_station_index])\n",
        "#df_idf['nearest_station'] = df_idf.apply(lambda row: find_nearest_station(row,stations_echantillonneesdf_stations),axis=1)\n",
        "#df_idf[['nom_station','distance_station_plus_proche']]=df_idf['nearest_station'].apply(lambda x: pd.Series(x))\n",
        "#df_idf.head()df_gares_proches=df_idf.drop(columns=[ 'date_mutation', 'numero_disposition', 'nature_mutation','valeur_fonciere', 'adresse_numero', 'adresse_suffixe','adresse_nom_voie', 'adresse_code_voie', 'code_postal', 'code_commune','nom_commune', 'code_departement', 'ancien_code_commune','ancien_nom_commune', 'id_parcelle', 'ancien_id_parcelle','numero_volume', 'lot1_numero', 'lot1_surface_carrez', 'lot2_numero','lot2_surface_carrez', 'lot3_numero', 'lot3_surface_carrez','lot4_numero', 'lot4_surface_carrez', 'lot5_numero','lot5_surface_carrez', 'nombre_lots', 'code_type_local', 'type_local','surface_reelle_bati', 'nombre_pieces_principales','code_nature_culture', 'nature_culture', 'code_nature_culture_speciale','nature_culture_speciale', 'surface_terrain', 'longitude', 'latitude','prix_au_metre_carre', 'nearest_station', ],axis=1)\n",
        "#df_gares_proches.to_csv('/content/drive/MyDrive/2A_Python pour la data science/stations_les_plus_proches.txt',index=False)"
      ]
    },
    {
      "cell_type": "markdown",
      "metadata": {
        "id": "NtA0MW84ua_P"
      },
      "source": [
        "Maintenant, on va faire un code pour récupérer cette information beaucoup plus rapidement, grâce au fichier."
      ]
    },
    {
      "cell_type": "code",
      "execution_count": null,
      "metadata": {
        "id": "lWRIZvS7ualv"
      },
      "outputs": [],
      "source": [
        "#path = '/content/drive/MyDrive/2A_Python pour la data science/'\n",
        "#df_gares_proches= pd.read_csv(path+'stations_les_plus_proches.txt', sep=',',low_memory=False)\n",
        "#df_idf=pd.merge(df_idf,df_gares_proches, on='id_mutation', how='inner')\n",
        "#df_idf=df_idf.drop_duplicates()\n",
        "#df_idf.head(5)"
      ]
    },
    {
      "cell_type": "markdown",
      "metadata": {
        "id": "fdkgA6D_N55s"
      },
      "source": [
        "On réduit ce data frame à Paris ce qui nous donne 6668 données."
      ]
    },
    {
      "cell_type": "code",
      "execution_count": null,
      "metadata": {
        "id": "zTJiNLVdN1st"
      },
      "outputs": [],
      "source": [
        "df_paris = df_idf[df_idf['code_departement'] == '75']\n",
        "df_paris"
      ]
    },
    {
      "cell_type": "markdown",
      "metadata": {
        "id": "4NAfKlIxfiLJ"
      },
      "source": [
        "On crée une colonne avec l'arrondissement et on retire d'autres colonnes inutiles."
      ]
    },
    {
      "cell_type": "code",
      "execution_count": null,
      "metadata": {
        "id": "e-VjKbpKfZTP"
      },
      "outputs": [],
      "source": [
        "df_paris['arrondissement'] = df_paris['code_commune'].astype(str).str[-2:]"
      ]
    },
    {
      "cell_type": "code",
      "execution_count": null,
      "metadata": {
        "id": "mXnLtnrCuoib"
      },
      "outputs": [],
      "source": [
        "df_paris = df_paris.drop(columns=[\"ancien_code_commune\", \"ancien_nom_commune\", \"surface_terrain\"], errors='ignore')"
      ]
    },
    {
      "cell_type": "code",
      "execution_count": null,
      "metadata": {
        "id": "NiaBQNzITgdT"
      },
      "outputs": [],
      "source": [
        "df_paris.head(5)"
      ]
    },
    {
      "cell_type": "code",
      "execution_count": null,
      "metadata": {
        "id": "jTUUm1h3TPrW"
      },
      "outputs": [],
      "source": [
        "#distance à la gare la plus proche (que paris)\n",
        "\n",
        "#def find_nearest_station(apartment, stations_df):\n",
        "#    apartment_coords = (apartment['latitude'], apartment['longitude'])\n",
        "#    distances = stations_df.apply(lambda row: geodesic(apartment_coords, row['geo_point_2d']).meters, axis=1)\n",
        "#    nearest_station_index = distances.idxmin()\n",
        "#    nearest_station = stations_df.loc[nearest_station_index, 'nom_gares']\n",
        "#    return (nearest_station,distances[nearest_station_index])\n",
        "#df_paris['nearest_station'] = df_paris.apply(lambda row: find_nearest_station(row,df_stations),axis=1)\n",
        "#df_paris[['nom_station','distance_station_plus_proche']]=df_paris['nearest_station'].apply(lambda x: pd.Series(x))\n",
        "#df_paris.head()\n",
        "\n",
        "#df_gares_proches_paris=df_paris.drop(columns=[ 'date_mutation', 'nature_mutation', 'valeur_fonciere','adresse_nom_voie', 'code_commune', 'nom_commune', 'code_departement','ancien_code_commune', 'ancien_nom_commune', 'nombre_lots','type_local', 'surface_reelle_bati', 'nombre_pieces_principales','surface_terrain', 'longitude', 'latitude', 'prix_au_metre_carre','nearest_station',],axis=1)\n",
        "#df_gares_proches_paris.to_csv('/content/drive/MyDrive/2A_Python pour la data science/stations_les_plus_proches.txt',index=False)"
      ]
    },
    {
      "cell_type": "code",
      "execution_count": null,
      "metadata": {
        "id": "ScfKfaEzUdGx"
      },
      "outputs": [],
      "source": [
        "path = '/content/drive/MyDrive/2A_Python pour la data science/'\n",
        "df_gares_proches= pd.read_csv(path+'stations_les_plus_proches.txt', sep=',',low_memory=False)\n",
        "df_paris=pd.merge(df_paris,df_gares_proches, on='id_mutation', how='inner')\n",
        "df_paris=df_paris.drop_duplicates()\n",
        "df_paris.head(5)"
      ]
    },
    {
      "cell_type": "markdown",
      "metadata": {
        "id": "-9i5SThaOBr2"
      },
      "source": [
        "On a donc rajouté une variable explicative : la distance à la gare la plus proche."
      ]
    },
    {
      "cell_type": "markdown",
      "metadata": {
        "id": "-RX2lL-uPO9-"
      },
      "source": [
        "##5.2 Ajout de la distance à un espace vert"
      ]
    },
    {
      "cell_type": "markdown",
      "metadata": {
        "id": "eqMWdwIaRKeP"
      },
      "source": [
        "On a voulu se restreindre à Paris dans cette partie car nous ne possédons que les espaces verts de Paris. On importe les données depuis data.gouv.fr et on garde uniquement les espaces verts de tailles conséquente, c'est à dire les promenades et les bois."
      ]
    },
    {
      "cell_type": "code",
      "execution_count": null,
      "metadata": {
        "id": "_tdckGXuIsJL"
      },
      "outputs": [],
      "source": [
        "df_espaces_verts=pd.read_csv('https://www.data.gouv.fr/fr/datasets/r/df83af76-2045-4b3e-8a94-b7cced0d0b69',sep=';',low_memory=False)\n",
        "df_espaces_verts=df_espaces_verts.drop(['nsq_espace_vert',\n",
        "       'surface_horticole', 'presence_cloture', 'perimeter', 'annee_ouverture',\n",
        "       'annee_renovation', 'ancien_nom_ev', 'annee_changement_nom',\n",
        "       'nb_entites', 'ouvert_ferme',  'id_atelier_horticole','geom_x_y','competence','id_eqpt','site_villes','ida3d_enb',\n",
        "       ],axis=1)\n",
        "df_espaces_verts['type_ev'].unique()"
      ]
    },
    {
      "cell_type": "code",
      "execution_count": null,
      "metadata": {
        "id": "bFBVdbmWR1Rq"
      },
      "outputs": [],
      "source": [
        "df_espaces_verts=df_espaces_verts[df_espaces_verts['type_ev'].isin(['Promenades ouvertes', 'Bois'])]\n",
        "\n",
        "plt.figure(figsize=(10, 6))\n",
        "sns.kdeplot(df_espaces_verts['surface_totale_reelle'], fill=True, color='skyblue')\n",
        "plt.xlabel('surface totale des espaces verts')\n",
        "plt.ylabel('Densité')\n",
        "plt.title('Surfaces des espaces verts avant élimination des valeurs aberrantes')\n",
        "plt.show()\n",
        "\n",
        "df_espaces_verts=df_espaces_verts[df_espaces_verts['surface_totale_reelle']>=130]\n"
      ]
    },
    {
      "cell_type": "code",
      "execution_count": null,
      "metadata": {
        "id": "1jtBG9_rYPFz"
      },
      "outputs": [],
      "source": [
        "df_espaces_verts=df_espaces_verts[df_espaces_verts['type_ev'].isin(['Promenades ouvertes', 'Bois'])]\n",
        "\n",
        "df_espaces_verts=df_espaces_verts[df_espaces_verts['surface_totale_reelle']>=130]\n",
        "df_espaces_verts['surface_totale_reelle'].describe()"
      ]
    },
    {
      "cell_type": "code",
      "execution_count": null,
      "metadata": {
        "id": "oMPhW9e6Vu-j"
      },
      "outputs": [],
      "source": [
        "df_espaces_verts.head()\n",
        "df_espaces_verts['categorie'].unique()"
      ]
    },
    {
      "cell_type": "code",
      "execution_count": null,
      "metadata": {
        "id": "ULtm4vOoisdc"
      },
      "outputs": [],
      "source": [
        "df_espaces_verts.nsmallest(5, 'poly_area')"
      ]
    },
    {
      "cell_type": "markdown",
      "metadata": {
        "id": "Kt0UgC86lPSP"
      },
      "source": [
        "Malgré notre premier tri sur les promenades et bois, il reste des espaces verts trop petits pour en être. On décide donc de retirer les espaces verts qui ne font pas plus de 130m²."
      ]
    },
    {
      "cell_type": "code",
      "execution_count": null,
      "metadata": {
        "id": "JPEVU4WPlOTO"
      },
      "outputs": [],
      "source": [
        "df_espaces_verts = df_espaces_verts.loc[df_espaces_verts['surface_totale_reelle'] > 130]\n"
      ]
    },
    {
      "cell_type": "markdown",
      "metadata": {
        "id": "9TxFirVnedHx"
      },
      "source": [
        "Pour commencer, nous décidons d'afficher une carte pour voir si la répartition des espaces verts est équilibrée ou pas. Pour cela, on importe un geojson sur les arrondissements et on affiche une carte avec le nombre d'espaces verts par arrondissement."
      ]
    },
    {
      "cell_type": "code",
      "execution_count": null,
      "metadata": {
        "id": "xRAEU-Xcfmob"
      },
      "outputs": [],
      "source": [
        "url_arrondissements='https://www.data.gouv.fr/fr/datasets/r/4765fe48-35fd-4536-b029-4727380ce23c'\n",
        "arrondissements_geojson=gpd.read_file(url_arrondissements)"
      ]
    },
    {
      "cell_type": "code",
      "execution_count": null,
      "metadata": {
        "id": "Vdp9-o9ivapw"
      },
      "outputs": [],
      "source": [
        "df_espaces_verts['adresse_codepostal'] = df_espaces_verts['adresse_codepostal'].astype(int)\n",
        "df_espaces_verts['arrondissement'] = df_espaces_verts['adresse_codepostal'].apply(lambda x: int(str(x)[2:]))\n",
        "\n",
        "df_grouped = df_espaces_verts.groupby('arrondissement').size().reset_index(name='nombre_espaces_verts')\n",
        "new_df_merged = arrondissements_geojson.merge(df_grouped, left_on='c_ar', right_on='arrondissement')\n",
        "fig, ax = plt.subplots(1, 1, figsize=(12, 8))\n",
        "new_df_merged.plot(column='nombre_espaces_verts', cmap='YlGn', linewidth=0.8, ax=ax, edgecolor='0.8', legend=True)\n",
        "plt.title('Nombre d\\'espaces verts par arrondissement à Paris')\n",
        "plt.show()"
      ]
    },
    {
      "cell_type": "markdown",
      "metadata": {
        "id": "ULXN_aaKTi2b"
      },
      "source": [
        "Alors, on voit que les espaces verts sont principalement situés dans les arrondissements extérieurs. Maintenant que nous savons que ce n'est pas forcément inintéressant, calculons la distance de chaque bien à l'espace vert le plus proche dans Paris."
      ]
    },
    {
      "cell_type": "code",
      "execution_count": null,
      "metadata": {
        "id": "3lgd9YJ0CtqT"
      },
      "outputs": [],
      "source": [
        "import json\n",
        "df_espaces_verts= df_espaces_verts.dropna(subset=['geom'])\n",
        "df_espaces_verts['geom']=df_espaces_verts['geom'].astype(str)\n",
        "df_espaces_verts['geom'] = df_espaces_verts['geom'].apply(json.loads)\n",
        "df_espaces_verts['geom'] = df_espaces_verts['geom'].apply(lambda x: x['coordinates'])\n",
        "df_espaces_verts.head(5)"
      ]
    },
    {
      "cell_type": "code",
      "execution_count": null,
      "metadata": {
        "id": "yo27KbcKnCpz"
      },
      "outputs": [],
      "source": [
        "df_espaces_verts.head(5)"
      ]
    },
    {
      "cell_type": "code",
      "execution_count": null,
      "metadata": {
        "id": "NyUNANzlVc5w"
      },
      "outputs": [],
      "source": [
        "def extract_first_element(coord_list):\n",
        "    texte=str(coord_list)\n",
        "    i=0\n",
        "    while texte[i]=='[':\n",
        "      i+=1\n",
        "    liste=coord_list\n",
        "    for i in range (i-1):\n",
        "      liste=liste[0]\n",
        "    return liste[0],liste[1]\n",
        "\n",
        "df_espaces_verts['first_coordinate'] = df_espaces_verts['geom'].apply(extract_first_element)"
      ]
    },
    {
      "cell_type": "code",
      "execution_count": null,
      "metadata": {
        "id": "I75qZisR6AWR"
      },
      "outputs": [],
      "source": [
        "df_paris"
      ]
    },
    {
      "cell_type": "code",
      "execution_count": null,
      "metadata": {
        "id": "aBu3qs7Ozcfw"
      },
      "outputs": [],
      "source": [
        "df_paris.head(1)"
      ]
    },
    {
      "cell_type": "code",
      "execution_count": null,
      "metadata": {
        "id": "VPeWOL-sXCjk"
      },
      "outputs": [],
      "source": [
        "#def find_nearest_green(apartment, parcs_df):\n",
        "#    apartment_coords = (apartment['longitude'], apartment['latitude'])\n",
        "#    distances = parcs_df.apply(lambda row: geodesic(apartment_coords, row['first_coordinate']).meters, axis=1)\n",
        "#    nearest_parc_index = distances.idxmin()\n",
        "#    nearest_parc = parcs_df.loc[nearest_parc_index, 'nom_ev']\n",
        "#    return (nearest_parc,distances[nearest_parc_index])\n",
        "#df_paris['nearest_parc'] = df_paris.apply(lambda row: find_nearest_green(row,df_espaces_verts),axis=1)\n",
        "#df_paris[['nom_ev','distance_parc_plus_proche']]=df_paris['nearest_parc'].apply(lambda x: pd.Series(x))\n"
      ]
    },
    {
      "cell_type": "code",
      "source": [
        "#df_ev_proches=df_paris.drop(columns=['date_mutation', 'nature_mutation', 'valeur_fonciere','adresse_nom_voie', 'code_commune', 'nom_commune', 'code_departement','nombre_lots', 'type_local', 'surface_reelle_bati','nombre_pieces_principales', 'longitude', 'latitude','prix_au_metre_carre', 'arrondissement', 'nom_station','distance_station_plus_proche', 'nearest_parc'],axis=1)"
      ],
      "metadata": {
        "id": "g4TXWsBqPhNp"
      },
      "execution_count": null,
      "outputs": []
    },
    {
      "cell_type": "code",
      "source": [
        "#df_ev_proches.to_csv('/content/drive/MyDrive/2A_Python pour la data science/df_paris_espaces_verts_les_plus_proches.txt',index=False)"
      ],
      "metadata": {
        "id": "dqllCYX7WwWB"
      },
      "execution_count": null,
      "outputs": []
    },
    {
      "cell_type": "code",
      "source": [
        "path = '/content/drive/MyDrive/2A_Python pour la data science/'\n",
        "df_ev_proches= pd.read_csv(path+'df_paris_espaces_verts_les_plus_proches.txt', sep=',',low_memory=False)"
      ],
      "metadata": {
        "id": "3dYrpr1hQM3Z"
      },
      "execution_count": null,
      "outputs": []
    },
    {
      "cell_type": "code",
      "source": [
        "df_ev_proches"
      ],
      "metadata": {
        "id": "OujP12vJXBbe"
      },
      "execution_count": null,
      "outputs": []
    },
    {
      "cell_type": "code",
      "source": [
        "df_ev_proches.head()"
      ],
      "metadata": {
        "id": "sNThkxjdRBId"
      },
      "execution_count": null,
      "outputs": []
    },
    {
      "cell_type": "code",
      "source": [
        "df_paris=pd.merge(df_paris,df_ev_proches, on='id_mutation', how='inner')\n",
        "df_paris=df_paris.drop_duplicates()"
      ],
      "metadata": {
        "id": "pR9XBRd2QgDT"
      },
      "execution_count": null,
      "outputs": []
    },
    {
      "cell_type": "code",
      "source": [
        "df_paris.head()"
      ],
      "metadata": {
        "id": "IdxaqKooRDEY"
      },
      "execution_count": null,
      "outputs": []
    },
    {
      "cell_type": "markdown",
      "metadata": {
        "id": "fEvbHgqcc9Z6"
      },
      "source": [
        "##5.3 Ajout de la satisfaction dans l'arrondissement"
      ]
    },
    {
      "cell_type": "markdown",
      "metadata": {
        "id": "dGpfMSTydQxb"
      },
      "source": [
        "Nous avons décidé d'ajouter la satisfaction des riverains à vivre dans un arrondissement. Ainsi, nous récupérons les données du site ParisSecret qui recense l'avis des habitants sous la forme d'une note selon 9 caractéristiques : culture, transports, environnement, sécurité, santé..."
      ]
    },
    {
      "cell_type": "code",
      "execution_count": null,
      "metadata": {
        "id": "aoUGri5ueN-d"
      },
      "outputs": [],
      "source": [
        "data = {\n",
        "    'Arrondissement': [\n",
        "        '03', '05', '08', '12', '06', '16', '15', '09', '07',\n",
        "        '17', '11', '01', '13', '20', '19', '14', '02',\n",
        "        '04', '18', '10'\n",
        "    ],\n",
        "    'note': [\n",
        "        8.25, 8.03, 7.6, 7.56, 7.54, 7.5, 7.41, 7.38, 7.31, 7.17,\n",
        "        6.9, 6.58, 6.57, 6.32, 6.21, 6.15, 6.06, 5.89, 5.12, 4.94\n",
        "    ]\n",
        "}\n",
        "\n",
        "df_note_arr = pd.DataFrame(data)"
      ]
    },
    {
      "cell_type": "code",
      "execution_count": null,
      "metadata": {
        "id": "bS9WkAMRePpk"
      },
      "outputs": [],
      "source": [
        "df_note_arr"
      ]
    },
    {
      "cell_type": "code",
      "execution_count": null,
      "metadata": {
        "id": "CHZbTHWHgl60"
      },
      "outputs": [],
      "source": [
        "df_paris = pd.merge(df_paris, df_note_arr, left_on='arrondissement', right_on='Arrondissement', how='left')\n",
        "df_paris.drop('Arrondissement', axis=1, inplace=True)"
      ]
    },
    {
      "cell_type": "code",
      "execution_count": null,
      "metadata": {
        "id": "ffN8uL0RhDP_"
      },
      "outputs": [],
      "source": [
        "df_paris"
      ]
    },
    {
      "cell_type": "markdown",
      "metadata": {
        "id": "zqAzM7NwhQcU"
      },
      "source": [
        "On a donc encore rajouté une variable explicative."
      ]
    },
    {
      "cell_type": "markdown",
      "metadata": {
        "id": "kZoI_7vohx4x"
      },
      "source": [
        "##5.4 Ajout de la variable prix moyen du mètre carré dans l'arrondissement"
      ]
    },
    {
      "cell_type": "markdown",
      "metadata": {
        "id": "IYZn-tYGh4Te"
      },
      "source": [
        "Nous avons décidé d'ajouter comme variable le prix moyen du mètre carré dans l'arrondissement. Pour cela, nous extrayons les données du site immobilier.lefigaro."
      ]
    },
    {
      "cell_type": "code",
      "execution_count": null,
      "metadata": {
        "id": "AhWbsHICh3tf"
      },
      "outputs": [],
      "source": [
        "data_prix_moyen_m2 = {\n",
        "    'Arrondissement': ['01','02','03','04','05','06','07','08','09','10','11','12','13','14','15','16','17','18','19','20']\n",
        "  ,\n",
        "    'prix_moy_m2_arr': [11432,12071,12688,13606,12921,15433,15407,12962,11510,10045,10669,9954,9509,10469,10526,11922,11000,9613,8852,9464]\n",
        "}\n",
        "\n",
        "df_prix_moy_arr = pd.DataFrame(data_prix_moyen_m2)"
      ]
    },
    {
      "cell_type": "code",
      "execution_count": null,
      "metadata": {
        "id": "woL2mqTmj_HU"
      },
      "outputs": [],
      "source": [
        "df_paris = pd.merge(df_paris, df_prix_moy_arr.set_index('Arrondissement'),\n",
        "                    left_on='arrondissement', right_index=True, how='left').reset_index()"
      ]
    },
    {
      "cell_type": "code",
      "execution_count": null,
      "metadata": {
        "id": "6nHnv9Iwrl1S"
      },
      "outputs": [],
      "source": [
        "df_paris"
      ]
    },
    {
      "cell_type": "markdown",
      "metadata": {
        "id": "4do0CxiPry5W"
      },
      "source": [
        "Nous avons encore rajouté une variable explicative."
      ]
    },
    {
      "cell_type": "markdown",
      "metadata": {
        "id": "c0uI01SAoAUs"
      },
      "source": [
        "##5.5 Matrice de corrélation dans Paris avec les variables ajoutées"
      ]
    },
    {
      "cell_type": "markdown",
      "metadata": {
        "id": "g_IAEjnmscCt"
      },
      "source": [
        "On ajoute la variable d'appartement ou maison sous la forme d'une variable quantitative puisqu'elle est binaire."
      ]
    },
    {
      "cell_type": "code",
      "execution_count": null,
      "metadata": {
        "id": "1nmIhYINqSI8"
      },
      "outputs": [],
      "source": [
        "df_paris['mois_vente'] = df_paris['date_mutation'].str[-2:]\n",
        "df_paris['mois_vente'] = df_paris['mois_vente'].astype(int)\n",
        "df_paris['indicatrice_maison'] = df_paris['type_local'].apply(lambda x: 1 if x == 'Maison' else 0)"
      ]
    },
    {
      "cell_type": "code",
      "execution_count": null,
      "metadata": {
        "id": "lHs9dsqcojCe"
      },
      "outputs": [],
      "source": [
        "df_paris.drop('index', axis=1, inplace=True)"
      ]
    },
    {
      "cell_type": "code",
      "execution_count": null,
      "metadata": {
        "id": "iszUE-FrocAF"
      },
      "outputs": [],
      "source": [
        "df_paris_num = df_paris.select_dtypes(include = ['float64', 'int64'])"
      ]
    },
    {
      "cell_type": "code",
      "execution_count": null,
      "metadata": {
        "id": "5GYItLGpoFkv",
        "colab": {
          "base_uri": "https://localhost:8080/",
          "height": 595
        },
        "outputId": "2659284a-4cd5-4213-8a07-d85a10133c8e"
      },
      "outputs": [
        {
          "output_type": "execute_result",
          "data": {
            "text/plain": [
              "<Axes: >"
            ]
          },
          "metadata": {},
          "execution_count": 203
        },
        {
          "output_type": "display_data",
          "data": {
            "text/plain": [
              "<Figure size 1300x900 with 2 Axes>"
            ],
            "image/png": "[encoded data removed]"
          },
          "metadata": {}
        }
      ],
      "source": [
        "sns.set_theme(style=\"white\")\n",
        "\n",
        "corr_paris = df_paris_num.corr()\n",
        "\n",
        "# Génération d'un masque pour la partie supérieure du triangle\n",
        "mask = np.triu(np.ones_like(corr_paris, dtype=bool))\n",
        "f, ax = plt.subplots(figsize=(13, 9))\n",
        "\n",
        "# Création d'une palette de couleurs\n",
        "cmap = sns.color_palette(\"vlag\", as_cmap=True)\n",
        "\n",
        "# Tracé de la heatmap\n",
        "sns.heatmap(corr_paris, mask=mask, cmap=cmap, vmax=.3, center=0,\n",
        "            square=True, linewidths=.5, cbar_kws={\"shrink\": .5}, annot=True, fmt=\".2f\")"
      ]
    },
    {
      "cell_type": "markdown",
      "metadata": {
        "id": "AqJI-kZhtTL7"
      },
      "source": [
        "#**6. Modélisation sur Paris**"
      ]
    },
    {
      "cell_type": "markdown",
      "metadata": {
        "id": "xDN4TNWuuDZ4"
      },
      "source": [
        "## 6.1 Préparation du dataset"
      ]
    },
    {
      "cell_type": "markdown",
      "metadata": {
        "id": "IL30dFbeuJ8O"
      },
      "source": [
        "Nous voulons nous assurer que notre dataset ne comporte aucune valeur manquante dans les colonnes essentielles. C'est bien le cas avec le travail réalisé avant. Effectivement, étant donné l'unicité de chaque bien, il n'était pas possible de substituer certaines valeurs par une moyenne ou une médiane."
      ]
    },
    {
      "cell_type": "code",
      "execution_count": null,
      "metadata": {
        "id": "3P2xwUEjtlwL",
        "colab": {
          "base_uri": "https://localhost:8080/"
        },
        "outputId": "36669d54-55cb-469d-b120-b6998f6ef010"
      },
      "outputs": [
        {
          "output_type": "execute_result",
          "data": {
            "text/plain": [
              "id_mutation                     0\n",
              "date_mutation                   0\n",
              "nature_mutation                 0\n",
              "valeur_fonciere                 0\n",
              "adresse_nom_voie                0\n",
              "code_commune                    0\n",
              "nom_commune                     0\n",
              "code_departement                0\n",
              "nombre_lots                     0\n",
              "type_local                      0\n",
              "surface_reelle_bati             0\n",
              "nombre_pieces_principales       0\n",
              "longitude                       0\n",
              "latitude                        0\n",
              "prix_au_metre_carre             0\n",
              "arrondissement                  0\n",
              "nom_station                     0\n",
              "distance_station_plus_proche    0\n",
              "nom_ev                          0\n",
              "distance_parc_plus_proche       0\n",
              "note                            0\n",
              "prix_moy_m2_arr                 0\n",
              "mois_vente                      0\n",
              "indicatrice_maison              0\n",
              "dtype: int64"
            ]
          },
          "metadata": {},
          "execution_count": 204
        }
      ],
      "source": [
        "df_paris.isnull().sum()"
      ]
    },
    {
      "cell_type": "markdown",
      "metadata": {
        "id": "2G4EFsNItqqt"
      },
      "source": [
        "Nous allons maintenant transformer nos variables qualitatives en variables quantitatives. Nous l'avons déjà réalisé en créant la variable indicatrice_maison valant 1 si c'est une maison, 0 si c'est un appartement."
      ]
    },
    {
      "cell_type": "code",
      "execution_count": null,
      "metadata": {
        "id": "1y9gV-mPwANR"
      },
      "outputs": [],
      "source": [
        "df_paris['type_voie'] = df_paris['adresse_nom_voie'].str.split().str[0]"
      ]
    },
    {
      "cell_type": "code",
      "execution_count": null,
      "metadata": {
        "id": "JEqld2ZYwksP",
        "colab": {
          "base_uri": "https://localhost:8080/"
        },
        "outputId": "049395a2-0afc-492a-9bb7-d0e70e9ad7b0"
      },
      "outputs": [
        {
          "output_type": "execute_result",
          "data": {
            "text/plain": [
              "array(['RUE', 'BD', 'PAS', 'AV', 'QUAI', 'ALL', 'VC', 'IMP', 'VLA', 'SQ',\n",
              "       'CRS', 'CITE', 'COUR', 'PL', 'VOIE', 'ALLEE', 'VIL', 'DU'],\n",
              "      dtype=object)"
            ]
          },
          "metadata": {},
          "execution_count": 206
        }
      ],
      "source": [
        "df_paris['type_voie'].unique()"
      ]
    },
    {
      "cell_type": "markdown",
      "metadata": {
        "id": "Etpfb_2B2tVX"
      },
      "source": [
        "On regarde les différents types de voies, et on va transformer la variable type_voie en une variable quantitative. On associe un chiffre entre 1 et 7 selon la taille, de la voie. Mais d'abord, on retire les lignes qui correspondent à une type de voie 'VC' ou 'DU' car il n'y en que 6, et ne sont pas des voies traditionnelles."
      ]
    },
    {
      "cell_type": "code",
      "execution_count": null,
      "metadata": {
        "id": "bMY89l-T4Xt3"
      },
      "outputs": [],
      "source": [
        "df_paris = df_paris.query('type_voie not in [\"VC\", \"DU\"]')"
      ]
    },
    {
      "cell_type": "code",
      "execution_count": null,
      "metadata": {
        "id": "H4RIgRIC3ReQ"
      },
      "outputs": [],
      "source": [
        "def attribuer_voie_num(row):\n",
        "    if row['type_voie'] in [\"PAS\", \"ALL\", \"ALLEE\", \"IMP\", \"VLA\", \"VIL\", \"COUR\", \"SQ\", \"CITE\"]:\n",
        "        return 1\n",
        "    elif row['type_voie'] == \"QUAI\":\n",
        "        return 2\n",
        "    elif row['type_voie'] in [\"RUE\", \"VOIE\"]:\n",
        "        return 3\n",
        "    elif row['type_voie'] == \"PL\":\n",
        "        return 4\n",
        "    elif row['type_voie'] == \"CRS\":\n",
        "        return 5\n",
        "    elif row['type_voie'] == \"AV\":\n",
        "        return 6\n",
        "    elif row['type_voie'] == \"BD\":\n",
        "        return 7\n",
        "    else:\n",
        "        return None"
      ]
    },
    {
      "cell_type": "code",
      "execution_count": null,
      "metadata": {
        "id": "a3dbInxo3_B0"
      },
      "outputs": [],
      "source": [
        "df_paris['voie_num'] = df_paris.apply(attribuer_voie_num, axis=1)"
      ]
    },
    {
      "cell_type": "markdown",
      "metadata": {
        "id": "OTLMchAt4w1M"
      },
      "source": [
        "Il n'y a toujours pas de valeur manquante."
      ]
    },
    {
      "cell_type": "code",
      "execution_count": null,
      "metadata": {
        "id": "NsIFspnQ4DQ0",
        "colab": {
          "base_uri": "https://localhost:8080/"
        },
        "outputId": "67bf1806-90d6-483c-fe1a-85beb6bff54c"
      },
      "outputs": [
        {
          "output_type": "execute_result",
          "data": {
            "text/plain": [
              "id_mutation                     0\n",
              "date_mutation                   0\n",
              "nature_mutation                 0\n",
              "valeur_fonciere                 0\n",
              "adresse_nom_voie                0\n",
              "code_commune                    0\n",
              "nom_commune                     0\n",
              "code_departement                0\n",
              "nombre_lots                     0\n",
              "type_local                      0\n",
              "surface_reelle_bati             0\n",
              "nombre_pieces_principales       0\n",
              "longitude                       0\n",
              "latitude                        0\n",
              "prix_au_metre_carre             0\n",
              "arrondissement                  0\n",
              "nom_station                     0\n",
              "distance_station_plus_proche    0\n",
              "nom_ev                          0\n",
              "distance_parc_plus_proche       0\n",
              "note                            0\n",
              "prix_moy_m2_arr                 0\n",
              "mois_vente                      0\n",
              "indicatrice_maison              0\n",
              "type_voie                       0\n",
              "voie_num                        0\n",
              "dtype: int64"
            ]
          },
          "metadata": {},
          "execution_count": 210
        }
      ],
      "source": [
        "df_paris.isnull().sum()"
      ]
    },
    {
      "cell_type": "markdown",
      "metadata": {
        "id": "a_uMDZmCbyHb"
      },
      "source": [
        "Ensuite, on crée une variable one_hot_encoded_arr pour rajouter une colonne indicatrice pour chaque arrondissement."
      ]
    },
    {
      "cell_type": "code",
      "execution_count": null,
      "metadata": {
        "id": "Y7LrU3iKblQy"
      },
      "outputs": [],
      "source": [
        "one_hot_encoded_arr = pd.get_dummies(df_paris['arrondissement'], prefix='arrondissement')\n",
        "\n",
        "# Ajoutez les colonnes one-hot au DataFrame d'origine\n",
        "df_paris = pd.concat([df_paris, one_hot_encoded_arr], axis=1)"
      ]
    },
    {
      "cell_type": "code",
      "execution_count": null,
      "metadata": {
        "id": "FifSnnbkbmwf",
        "colab": {
          "base_uri": "https://localhost:8080/",
          "height": 196
        },
        "outputId": "596eb0a0-81c6-4c2e-a24f-7964982656de"
      },
      "outputs": [
        {
          "output_type": "execute_result",
          "data": {
            "text/plain": [
              "    id_mutation date_mutation nature_mutation  valeur_fonciere  \\\n",
              "0  2022-1621609    2022-01-06           Vente         220000.0   \n",
              "1  2022-1621611    2022-01-04           Vente         200000.0   \n",
              "\n",
              "          adresse_nom_voie code_commune               nom_commune  \\\n",
              "0  RUE ELYSEE MENILMONTANT        75120  Paris 20e Arrondissement   \n",
              "1            RUE DE CRIMEE        75119  Paris 19e Arrondissement   \n",
              "\n",
              "  code_departement  nombre_lots   type_local  ...  arrondissement_11  \\\n",
              "0               75            2  Appartement  ...                  0   \n",
              "1               75            2  Appartement  ...                  0   \n",
              "\n",
              "   arrondissement_12  arrondissement_13  arrondissement_14  arrondissement_15  \\\n",
              "0                  0                  0                  0                  0   \n",
              "1                  0                  0                  0                  0   \n",
              "\n",
              "  arrondissement_16 arrondissement_17  arrondissement_18 arrondissement_19  \\\n",
              "0                 0                 0                  0                 0   \n",
              "1                 0                 0                  0                 1   \n",
              "\n",
              "   arrondissement_20  \n",
              "0                  1  \n",
              "1                  0  \n",
              "\n",
              "[2 rows x 46 columns]"
            ],
            "text/html": [
              "\n",
              "  <div id=\"df-7b1510c1-998a-4386-a813-d79878339f90\" class=\"colab-df-container\">\n",
              "    <div>\n",
              "<style scoped>\n",
              "    .dataframe tbody tr th:only-of-type {\n",
              "        vertical-align: middle;\n",
              "    }\n",
              "\n",
              "    .dataframe tbody tr th {\n",
              "        vertical-align: top;\n",
              "    }\n",
              "\n",
              "    .dataframe thead th {\n",
              "        text-align: right;\n",
              "    }\n",
              "</style>\n",
              "<table border=\"1\" class=\"dataframe\">\n",
              "  <thead>\n",
              "    <tr style=\"text-align: right;\">\n",
              "      <th></th>\n",
              "      <th>id_mutation</th>\n",
              "      <th>date_mutation</th>\n",
              "      <th>nature_mutation</th>\n",
              "      <th>valeur_fonciere</th>\n",
              "      <th>adresse_nom_voie</th>\n",
              "      <th>code_commune</th>\n",
              "      <th>nom_commune</th>\n",
              "      <th>code_departement</th>\n",
              "      <th>nombre_lots</th>\n",
              "      <th>type_local</th>\n",
              "      <th>...</th>\n",
              "      <th>arrondissement_11</th>\n",
              "      <th>arrondissement_12</th>\n",
              "      <th>arrondissement_13</th>\n",
              "      <th>arrondissement_14</th>\n",
              "      <th>arrondissement_15</th>\n",
              "      <th>arrondissement_16</th>\n",
              "      <th>arrondissement_17</th>\n",
              "      <th>arrondissement_18</th>\n",
              "      <th>arrondissement_19</th>\n",
              "      <th>arrondissement_20</th>\n",
              "    </tr>\n",
              "  </thead>\n",
              "  <tbody>\n",
              "    <tr>\n",
              "      <th>0</th>\n",
              "      <td>2022-1621609</td>\n",
              "      <td>2022-01-06</td>\n",
              "      <td>Vente</td>\n",
              "      <td>220000.0</td>\n",
              "      <td>RUE ELYSEE MENILMONTANT</td>\n",
              "      <td>75120</td>\n",
              "      <td>Paris 20e Arrondissement</td>\n",
              "      <td>75</td>\n",
              "      <td>2</td>\n",
              "      <td>Appartement</td>\n",
              "      <td>...</td>\n",
              "      <td>0</td>\n",
              "      <td>0</td>\n",
              "      <td>0</td>\n",
              "      <td>0</td>\n",
              "      <td>0</td>\n",
              "      <td>0</td>\n",
              "      <td>0</td>\n",
              "      <td>0</td>\n",
              "      <td>0</td>\n",
              "      <td>1</td>\n",
              "    </tr>\n",
              "    <tr>\n",
              "      <th>1</th>\n",
              "      <td>2022-1621611</td>\n",
              "      <td>2022-01-04</td>\n",
              "      <td>Vente</td>\n",
              "      <td>200000.0</td>\n",
              "      <td>RUE DE CRIMEE</td>\n",
              "      <td>75119</td>\n",
              "      <td>Paris 19e Arrondissement</td>\n",
              "      <td>75</td>\n",
              "      <td>2</td>\n",
              "      <td>Appartement</td>\n",
              "      <td>...</td>\n",
              "      <td>0</td>\n",
              "      <td>0</td>\n",
              "      <td>0</td>\n",
              "      <td>0</td>\n",
              "      <td>0</td>\n",
              "      <td>0</td>\n",
              "      <td>0</td>\n",
              "      <td>0</td>\n",
              "      <td>1</td>\n",
              "      <td>0</td>\n",
              "    </tr>\n",
              "  </tbody>\n",
              "</table>\n",
              "<p>2 rows × 46 columns</p>\n",
              "</div>\n",
              "    <div class=\"colab-df-buttons\">\n",
              "\n",
              "  <div class=\"colab-df-container\">\n",
              "    <button class=\"colab-df-convert\" onclick=\"convertToInteractive('df-7b1510c1-998a-4386-a813-d79878339f90')\"\n",
              "            title=\"Convert this dataframe to an interactive table.\"\n",
              "            style=\"display:none;\">\n",
              "\n",
              "  <svg xmlns=\"http://www.w3.org/2000/svg\" height=\"24px\" viewBox=\"0 -960 960 960\">\n",
              "    <path d=\"M120-120v-720h720v720H120Zm60-500h600v-160H180v160Zm220 220h160v-160H400v160Zm0 220h160v-160H400v160ZM180-400h160v-160H180v160Zm440 0h160v-160H620v160ZM180-180h160v-160H180v160Zm440 0h160v-160H620v160Z\"/>\n",
              "  </svg>\n",
              "    </button>\n",
              "\n",
              "  <style>\n",
              "    .colab-df-container {\n",
              "      display:flex;\n",
              "      gap: 12px;\n",
              "    }\n",
              "\n",
              "    .colab-df-convert {\n",
              "      background-color: #E8F0FE;\n",
              "      border: none;\n",
              "      border-radius: 50%;\n",
              "      cursor: pointer;\n",
              "      display: none;\n",
              "      fill: #1967D2;\n",
              "      height: 32px;\n",
              "      padding: 0 0 0 0;\n",
              "      width: 32px;\n",
              "    }\n",
              "\n",
              "    .colab-df-convert:hover {\n",
              "      background-color: #E2EBFA;\n",
              "      box-shadow: 0px 1px 2px rgba(60, 64, 67, 0.3), 0px 1px 3px 1px rgba(60, 64, 67, 0.15);\n",
              "      fill: #174EA6;\n",
              "    }\n",
              "\n",
              "    .colab-df-buttons div {\n",
              "      margin-bottom: 4px;\n",
              "    }\n",
              "\n",
              "    [theme=dark] .colab-df-convert {\n",
              "      background-color: #3B4455;\n",
              "      fill: #D2E3FC;\n",
              "    }\n",
              "\n",
              "    [theme=dark] .colab-df-convert:hover {\n",
              "      background-color: #434B5C;\n",
              "      box-shadow: 0px 1px 3px 1px rgba(0, 0, 0, 0.15);\n",
              "      filter: drop-shadow(0px 1px 2px rgba(0, 0, 0, 0.3));\n",
              "      fill: #FFFFFF;\n",
              "    }\n",
              "  </style>\n",
              "\n",
              "    <script>\n",
              "      const buttonEl =\n",
              "        document.querySelector('#df-7b1510c1-998a-4386-a813-d79878339f90 button.colab-df-convert');\n",
              "      buttonEl.style.display =\n",
              "        google.colab.kernel.accessAllowed ? 'block' : 'none';\n",
              "\n",
              "      async function convertToInteractive(key) {\n",
              "        const element = document.querySelector('#df-7b1510c1-998a-4386-a813-d79878339f90');\n",
              "        const dataTable =\n",
              "          await google.colab.kernel.invokeFunction('convertToInteractive',\n",
              "                                                    [key], {});\n",
              "        if (!dataTable) return;\n",
              "\n",
              "        const docLinkHtml = 'Like what you see? Visit the ' +\n",
              "          '<a target=\"_blank\" href=https://colab.research.google.com/notebooks/data_table.ipynb>data table notebook</a>'\n",
              "          + ' to learn more about interactive tables.';\n",
              "        element.innerHTML = '';\n",
              "        dataTable['output_type'] = 'display_data';\n",
              "        await google.colab.output.renderOutput(dataTable, element);\n",
              "        const docLink = document.createElement('div');\n",
              "        docLink.innerHTML = docLinkHtml;\n",
              "        element.appendChild(docLink);\n",
              "      }\n",
              "    </script>\n",
              "  </div>\n",
              "\n",
              "\n",
              "<div id=\"df-5eeca74a-2b0b-4109-afd8-caa2d44d14ed\">\n",
              "  <button class=\"colab-df-quickchart\" onclick=\"quickchart('df-5eeca74a-2b0b-4109-afd8-caa2d44d14ed')\"\n",
              "            title=\"Suggest charts\"\n",
              "            style=\"display:none;\">\n",
              "\n",
              "<svg xmlns=\"http://www.w3.org/2000/svg\" height=\"24px\"viewBox=\"0 0 24 24\"\n",
              "     width=\"24px\">\n",
              "    <g>\n",
              "        <path d=\"M19 3H5c-1.1 0-2 .9-2 2v14c0 1.1.9 2 2 2h14c1.1 0 2-.9 2-2V5c0-1.1-.9-2-2-2zM9 17H7v-7h2v7zm4 0h-2V7h2v10zm4 0h-2v-4h2v4z\"/>\n",
              "    </g>\n",
              "</svg>\n",
              "  </button>\n",
              "\n",
              "<style>\n",
              "  .colab-df-quickchart {\n",
              "      --bg-color: #E8F0FE;\n",
              "      --fill-color: #1967D2;\n",
              "      --hover-bg-color: #E2EBFA;\n",
              "      --hover-fill-color: #174EA6;\n",
              "      --disabled-fill-color: #AAA;\n",
              "      --disabled-bg-color: #DDD;\n",
              "  }\n",
              "\n",
              "  [theme=dark] .colab-df-quickchart {\n",
              "      --bg-color: #3B4455;\n",
              "      --fill-color: #D2E3FC;\n",
              "      --hover-bg-color: #434B5C;\n",
              "      --hover-fill-color: #FFFFFF;\n",
              "      --disabled-bg-color: #3B4455;\n",
              "      --disabled-fill-color: #666;\n",
              "  }\n",
              "\n",
              "  .colab-df-quickchart {\n",
              "    background-color: var(--bg-color);\n",
              "    border: none;\n",
              "    border-radius: 50%;\n",
              "    cursor: pointer;\n",
              "    display: none;\n",
              "    fill: var(--fill-color);\n",
              "    height: 32px;\n",
              "    padding: 0;\n",
              "    width: 32px;\n",
              "  }\n",
              "\n",
              "  .colab-df-quickchart:hover {\n",
              "    background-color: var(--hover-bg-color);\n",
              "    box-shadow: 0 1px 2px rgba(60, 64, 67, 0.3), 0 1px 3px 1px rgba(60, 64, 67, 0.15);\n",
              "    fill: var(--button-hover-fill-color);\n",
              "  }\n",
              "\n",
              "  .colab-df-quickchart-complete:disabled,\n",
              "  .colab-df-quickchart-complete:disabled:hover {\n",
              "    background-color: var(--disabled-bg-color);\n",
              "    fill: var(--disabled-fill-color);\n",
              "    box-shadow: none;\n",
              "  }\n",
              "\n",
              "  .colab-df-spinner {\n",
              "    border: 2px solid var(--fill-color);\n",
              "    border-color: transparent;\n",
              "    border-bottom-color: var(--fill-color);\n",
              "    animation:\n",
              "      spin 1s steps(1) infinite;\n",
              "  }\n",
              "\n",
              "  @keyframes spin {\n",
              "    0% {\n",
              "      border-color: transparent;\n",
              "      border-bottom-color: var(--fill-color);\n",
              "      border-left-color: var(--fill-color);\n",
              "    }\n",
              "    20% {\n",
              "      border-color: transparent;\n",
              "      border-left-color: var(--fill-color);\n",
              "      border-top-color: var(--fill-color);\n",
              "    }\n",
              "    30% {\n",
              "      border-color: transparent;\n",
              "      border-left-color: var(--fill-color);\n",
              "      border-top-color: var(--fill-color);\n",
              "      border-right-color: var(--fill-color);\n",
              "    }\n",
              "    40% {\n",
              "      border-color: transparent;\n",
              "      border-right-color: var(--fill-color);\n",
              "      border-top-color: var(--fill-color);\n",
              "    }\n",
              "    60% {\n",
              "      border-color: transparent;\n",
              "      border-right-color: var(--fill-color);\n",
              "    }\n",
              "    80% {\n",
              "      border-color: transparent;\n",
              "      border-right-color: var(--fill-color);\n",
              "      border-bottom-color: var(--fill-color);\n",
              "    }\n",
              "    90% {\n",
              "      border-color: transparent;\n",
              "      border-bottom-color: var(--fill-color);\n",
              "    }\n",
              "  }\n",
              "</style>\n",
              "\n",
              "  <script>\n",
              "    async function quickchart(key) {\n",
              "      const quickchartButtonEl =\n",
              "        document.querySelector('#' + key + ' button');\n",
              "      quickchartButtonEl.disabled = true;  // To prevent multiple clicks.\n",
              "      quickchartButtonEl.classList.add('colab-df-spinner');\n",
              "      try {\n",
              "        const charts = await google.colab.kernel.invokeFunction(\n",
              "            'suggestCharts', [key], {});\n",
              "      } catch (error) {\n",
              "        console.error('Error during call to suggestCharts:', error);\n",
              "      }\n",
              "      quickchartButtonEl.classList.remove('colab-df-spinner');\n",
              "      quickchartButtonEl.classList.add('colab-df-quickchart-complete');\n",
              "    }\n",
              "    (() => {\n",
              "      let quickchartButtonEl =\n",
              "        document.querySelector('#df-5eeca74a-2b0b-4109-afd8-caa2d44d14ed button');\n",
              "      quickchartButtonEl.style.display =\n",
              "        google.colab.kernel.accessAllowed ? 'block' : 'none';\n",
              "    })();\n",
              "  </script>\n",
              "</div>\n",
              "    </div>\n",
              "  </div>\n"
            ]
          },
          "metadata": {},
          "execution_count": 212
        }
      ],
      "source": [
        "df_paris.head(2)"
      ]
    },
    {
      "cell_type": "markdown",
      "metadata": {
        "id": "8qrqAXEI5Jvp"
      },
      "source": [
        "Enfin, on crée une variable annonces_arrondissement, correspondant au nombre de ventes par arrondissement, puisque cette variable peut être représentive de l'offre sur le marché."
      ]
    },
    {
      "cell_type": "code",
      "execution_count": null,
      "metadata": {
        "id": "HG0FMh_z5eq0",
        "colab": {
          "base_uri": "https://localhost:8080/",
          "height": 708
        },
        "outputId": "daae7abe-990f-4b93-ef33-13ec4849455c"
      },
      "outputs": [
        {
          "output_type": "execute_result",
          "data": {
            "text/plain": [
              "                arrondissement\n",
              "arrondissement                \n",
              "01                          56\n",
              "02                          74\n",
              "03                         125\n",
              "04                          65\n",
              "05                         101\n",
              "06                          80\n",
              "07                         141\n",
              "08                          90\n",
              "09                         192\n",
              "10                         374\n",
              "11                         407\n",
              "12                         344\n",
              "13                         464\n",
              "14                         289\n",
              "15                         558\n",
              "16                         397\n",
              "17                         467\n",
              "18                        1007\n",
              "19                         708\n",
              "20                         728"
            ],
            "text/html": [
              "\n",
              "  <div id=\"df-e7f83904-6654-45b5-a4c2-c9a2b266e31f\" class=\"colab-df-container\">\n",
              "    <div>\n",
              "<style scoped>\n",
              "    .dataframe tbody tr th:only-of-type {\n",
              "        vertical-align: middle;\n",
              "    }\n",
              "\n",
              "    .dataframe tbody tr th {\n",
              "        vertical-align: top;\n",
              "    }\n",
              "\n",
              "    .dataframe thead th {\n",
              "        text-align: right;\n",
              "    }\n",
              "</style>\n",
              "<table border=\"1\" class=\"dataframe\">\n",
              "  <thead>\n",
              "    <tr style=\"text-align: right;\">\n",
              "      <th></th>\n",
              "      <th>arrondissement</th>\n",
              "    </tr>\n",
              "    <tr>\n",
              "      <th>arrondissement</th>\n",
              "      <th></th>\n",
              "    </tr>\n",
              "  </thead>\n",
              "  <tbody>\n",
              "    <tr>\n",
              "      <th>01</th>\n",
              "      <td>56</td>\n",
              "    </tr>\n",
              "    <tr>\n",
              "      <th>02</th>\n",
              "      <td>74</td>\n",
              "    </tr>\n",
              "    <tr>\n",
              "      <th>03</th>\n",
              "      <td>125</td>\n",
              "    </tr>\n",
              "    <tr>\n",
              "      <th>04</th>\n",
              "      <td>65</td>\n",
              "    </tr>\n",
              "    <tr>\n",
              "      <th>05</th>\n",
              "      <td>101</td>\n",
              "    </tr>\n",
              "    <tr>\n",
              "      <th>06</th>\n",
              "      <td>80</td>\n",
              "    </tr>\n",
              "    <tr>\n",
              "      <th>07</th>\n",
              "      <td>141</td>\n",
              "    </tr>\n",
              "    <tr>\n",
              "      <th>08</th>\n",
              "      <td>90</td>\n",
              "    </tr>\n",
              "    <tr>\n",
              "      <th>09</th>\n",
              "      <td>192</td>\n",
              "    </tr>\n",
              "    <tr>\n",
              "      <th>10</th>\n",
              "      <td>374</td>\n",
              "    </tr>\n",
              "    <tr>\n",
              "      <th>11</th>\n",
              "      <td>407</td>\n",
              "    </tr>\n",
              "    <tr>\n",
              "      <th>12</th>\n",
              "      <td>344</td>\n",
              "    </tr>\n",
              "    <tr>\n",
              "      <th>13</th>\n",
              "      <td>464</td>\n",
              "    </tr>\n",
              "    <tr>\n",
              "      <th>14</th>\n",
              "      <td>289</td>\n",
              "    </tr>\n",
              "    <tr>\n",
              "      <th>15</th>\n",
              "      <td>558</td>\n",
              "    </tr>\n",
              "    <tr>\n",
              "      <th>16</th>\n",
              "      <td>397</td>\n",
              "    </tr>\n",
              "    <tr>\n",
              "      <th>17</th>\n",
              "      <td>467</td>\n",
              "    </tr>\n",
              "    <tr>\n",
              "      <th>18</th>\n",
              "      <td>1007</td>\n",
              "    </tr>\n",
              "    <tr>\n",
              "      <th>19</th>\n",
              "      <td>708</td>\n",
              "    </tr>\n",
              "    <tr>\n",
              "      <th>20</th>\n",
              "      <td>728</td>\n",
              "    </tr>\n",
              "  </tbody>\n",
              "</table>\n",
              "</div>\n",
              "    <div class=\"colab-df-buttons\">\n",
              "\n",
              "  <div class=\"colab-df-container\">\n",
              "    <button class=\"colab-df-convert\" onclick=\"convertToInteractive('df-e7f83904-6654-45b5-a4c2-c9a2b266e31f')\"\n",
              "            title=\"Convert this dataframe to an interactive table.\"\n",
              "            style=\"display:none;\">\n",
              "\n",
              "  <svg xmlns=\"http://www.w3.org/2000/svg\" height=\"24px\" viewBox=\"0 -960 960 960\">\n",
              "    <path d=\"M120-120v-720h720v720H120Zm60-500h600v-160H180v160Zm220 220h160v-160H400v160Zm0 220h160v-160H400v160ZM180-400h160v-160H180v160Zm440 0h160v-160H620v160ZM180-180h160v-160H180v160Zm440 0h160v-160H620v160Z\"/>\n",
              "  </svg>\n",
              "    </button>\n",
              "\n",
              "  <style>\n",
              "    .colab-df-container {\n",
              "      display:flex;\n",
              "      gap: 12px;\n",
              "    }\n",
              "\n",
              "    .colab-df-convert {\n",
              "      background-color: #E8F0FE;\n",
              "      border: none;\n",
              "      border-radius: 50%;\n",
              "      cursor: pointer;\n",
              "      display: none;\n",
              "      fill: #1967D2;\n",
              "      height: 32px;\n",
              "      padding: 0 0 0 0;\n",
              "      width: 32px;\n",
              "    }\n",
              "\n",
              "    .colab-df-convert:hover {\n",
              "      background-color: #E2EBFA;\n",
              "      box-shadow: 0px 1px 2px rgba(60, 64, 67, 0.3), 0px 1px 3px 1px rgba(60, 64, 67, 0.15);\n",
              "      fill: #174EA6;\n",
              "    }\n",
              "\n",
              "    .colab-df-buttons div {\n",
              "      margin-bottom: 4px;\n",
              "    }\n",
              "\n",
              "    [theme=dark] .colab-df-convert {\n",
              "      background-color: #3B4455;\n",
              "      fill: #D2E3FC;\n",
              "    }\n",
              "\n",
              "    [theme=dark] .colab-df-convert:hover {\n",
              "      background-color: #434B5C;\n",
              "      box-shadow: 0px 1px 3px 1px rgba(0, 0, 0, 0.15);\n",
              "      filter: drop-shadow(0px 1px 2px rgba(0, 0, 0, 0.3));\n",
              "      fill: #FFFFFF;\n",
              "    }\n",
              "  </style>\n",
              "\n",
              "    <script>\n",
              "      const buttonEl =\n",
              "        document.querySelector('#df-e7f83904-6654-45b5-a4c2-c9a2b266e31f button.colab-df-convert');\n",
              "      buttonEl.style.display =\n",
              "        google.colab.kernel.accessAllowed ? 'block' : 'none';\n",
              "\n",
              "      async function convertToInteractive(key) {\n",
              "        const element = document.querySelector('#df-e7f83904-6654-45b5-a4c2-c9a2b266e31f');\n",
              "        const dataTable =\n",
              "          await google.colab.kernel.invokeFunction('convertToInteractive',\n",
              "                                                    [key], {});\n",
              "        if (!dataTable) return;\n",
              "\n",
              "        const docLinkHtml = 'Like what you see? Visit the ' +\n",
              "          '<a target=\"_blank\" href=https://colab.research.google.com/notebooks/data_table.ipynb>data table notebook</a>'\n",
              "          + ' to learn more about interactive tables.';\n",
              "        element.innerHTML = '';\n",
              "        dataTable['output_type'] = 'display_data';\n",
              "        await google.colab.output.renderOutput(dataTable, element);\n",
              "        const docLink = document.createElement('div');\n",
              "        docLink.innerHTML = docLinkHtml;\n",
              "        element.appendChild(docLink);\n",
              "      }\n",
              "    </script>\n",
              "  </div>\n",
              "\n",
              "\n",
              "<div id=\"df-2123ab39-1bb5-46e4-a148-96d591e4f62e\">\n",
              "  <button class=\"colab-df-quickchart\" onclick=\"quickchart('df-2123ab39-1bb5-46e4-a148-96d591e4f62e')\"\n",
              "            title=\"Suggest charts\"\n",
              "            style=\"display:none;\">\n",
              "\n",
              "<svg xmlns=\"http://www.w3.org/2000/svg\" height=\"24px\"viewBox=\"0 0 24 24\"\n",
              "     width=\"24px\">\n",
              "    <g>\n",
              "        <path d=\"M19 3H5c-1.1 0-2 .9-2 2v14c0 1.1.9 2 2 2h14c1.1 0 2-.9 2-2V5c0-1.1-.9-2-2-2zM9 17H7v-7h2v7zm4 0h-2V7h2v10zm4 0h-2v-4h2v4z\"/>\n",
              "    </g>\n",
              "</svg>\n",
              "  </button>\n",
              "\n",
              "<style>\n",
              "  .colab-df-quickchart {\n",
              "      --bg-color: #E8F0FE;\n",
              "      --fill-color: #1967D2;\n",
              "      --hover-bg-color: #E2EBFA;\n",
              "      --hover-fill-color: #174EA6;\n",
              "      --disabled-fill-color: #AAA;\n",
              "      --disabled-bg-color: #DDD;\n",
              "  }\n",
              "\n",
              "  [theme=dark] .colab-df-quickchart {\n",
              "      --bg-color: #3B4455;\n",
              "      --fill-color: #D2E3FC;\n",
              "      --hover-bg-color: #434B5C;\n",
              "      --hover-fill-color: #FFFFFF;\n",
              "      --disabled-bg-color: #3B4455;\n",
              "      --disabled-fill-color: #666;\n",
              "  }\n",
              "\n",
              "  .colab-df-quickchart {\n",
              "    background-color: var(--bg-color);\n",
              "    border: none;\n",
              "    border-radius: 50%;\n",
              "    cursor: pointer;\n",
              "    display: none;\n",
              "    fill: var(--fill-color);\n",
              "    height: 32px;\n",
              "    padding: 0;\n",
              "    width: 32px;\n",
              "  }\n",
              "\n",
              "  .colab-df-quickchart:hover {\n",
              "    background-color: var(--hover-bg-color);\n",
              "    box-shadow: 0 1px 2px rgba(60, 64, 67, 0.3), 0 1px 3px 1px rgba(60, 64, 67, 0.15);\n",
              "    fill: var(--button-hover-fill-color);\n",
              "  }\n",
              "\n",
              "  .colab-df-quickchart-complete:disabled,\n",
              "  .colab-df-quickchart-complete:disabled:hover {\n",
              "    background-color: var(--disabled-bg-color);\n",
              "    fill: var(--disabled-fill-color);\n",
              "    box-shadow: none;\n",
              "  }\n",
              "\n",
              "  .colab-df-spinner {\n",
              "    border: 2px solid var(--fill-color);\n",
              "    border-color: transparent;\n",
              "    border-bottom-color: var(--fill-color);\n",
              "    animation:\n",
              "      spin 1s steps(1) infinite;\n",
              "  }\n",
              "\n",
              "  @keyframes spin {\n",
              "    0% {\n",
              "      border-color: transparent;\n",
              "      border-bottom-color: var(--fill-color);\n",
              "      border-left-color: var(--fill-color);\n",
              "    }\n",
              "    20% {\n",
              "      border-color: transparent;\n",
              "      border-left-color: var(--fill-color);\n",
              "      border-top-color: var(--fill-color);\n",
              "    }\n",
              "    30% {\n",
              "      border-color: transparent;\n",
              "      border-left-color: var(--fill-color);\n",
              "      border-top-color: var(--fill-color);\n",
              "      border-right-color: var(--fill-color);\n",
              "    }\n",
              "    40% {\n",
              "      border-color: transparent;\n",
              "      border-right-color: var(--fill-color);\n",
              "      border-top-color: var(--fill-color);\n",
              "    }\n",
              "    60% {\n",
              "      border-color: transparent;\n",
              "      border-right-color: var(--fill-color);\n",
              "    }\n",
              "    80% {\n",
              "      border-color: transparent;\n",
              "      border-right-color: var(--fill-color);\n",
              "      border-bottom-color: var(--fill-color);\n",
              "    }\n",
              "    90% {\n",
              "      border-color: transparent;\n",
              "      border-bottom-color: var(--fill-color);\n",
              "    }\n",
              "  }\n",
              "</style>\n",
              "\n",
              "  <script>\n",
              "    async function quickchart(key) {\n",
              "      const quickchartButtonEl =\n",
              "        document.querySelector('#' + key + ' button');\n",
              "      quickchartButtonEl.disabled = true;  // To prevent multiple clicks.\n",
              "      quickchartButtonEl.classList.add('colab-df-spinner');\n",
              "      try {\n",
              "        const charts = await google.colab.kernel.invokeFunction(\n",
              "            'suggestCharts', [key], {});\n",
              "      } catch (error) {\n",
              "        console.error('Error during call to suggestCharts:', error);\n",
              "      }\n",
              "      quickchartButtonEl.classList.remove('colab-df-spinner');\n",
              "      quickchartButtonEl.classList.add('colab-df-quickchart-complete');\n",
              "    }\n",
              "    (() => {\n",
              "      let quickchartButtonEl =\n",
              "        document.querySelector('#df-2123ab39-1bb5-46e4-a148-96d591e4f62e button');\n",
              "      quickchartButtonEl.style.display =\n",
              "        google.colab.kernel.accessAllowed ? 'block' : 'none';\n",
              "    })();\n",
              "  </script>\n",
              "</div>\n",
              "    </div>\n",
              "  </div>\n"
            ]
          },
          "metadata": {},
          "execution_count": 213
        }
      ],
      "source": [
        "offre_arr = df_paris.groupby(['arrondissement']).agg({'arrondissement':'count'})\n",
        "offre_arr"
      ]
    },
    {
      "cell_type": "code",
      "execution_count": null,
      "metadata": {
        "id": "-CX5Fh8f5JEj"
      },
      "outputs": [],
      "source": [
        "df_paris['annonces_arrondissement'] = df_paris['arrondissement'].groupby(df_paris['arrondissement']).transform('count')\n"
      ]
    },
    {
      "cell_type": "markdown",
      "metadata": {
        "id": "C0zIEurC6OE8"
      },
      "source": [
        "##6.2 Traitement du dataset"
      ]
    },
    {
      "cell_type": "markdown",
      "metadata": {
        "id": "e6S9Knmt6cFY"
      },
      "source": [
        "Nous nous sommes posés la question de shuffler le dataset et de le diviser pour avoir des échantillons iid avec moins de valeurs, mais nous n'avons que 6667 données, ce qui permet de le traiter dans son entièreté. On trace la distribution de la valeur foncière et prix au mètre carré pour pouvoir sélectionner le parties du dataframe qui seront pertinentes pour notre modèle."
      ]
    },
    {
      "cell_type": "code",
      "source": [
        "df_paris.shape[0]"
      ],
      "metadata": {
        "colab": {
          "base_uri": "https://localhost:8080/"
        },
        "id": "2rQsH2G-ZDV7",
        "outputId": "888eadf2-2dd6-4425-8603-3384f2c99d37"
      },
      "execution_count": null,
      "outputs": [
        {
          "output_type": "execute_result",
          "data": {
            "text/plain": [
              "6667"
            ]
          },
          "metadata": {},
          "execution_count": 215
        }
      ]
    },
    {
      "cell_type": "code",
      "execution_count": null,
      "metadata": {
        "id": "M8oxv0Ea7vGo",
        "colab": {
          "base_uri": "https://localhost:8080/",
          "height": 275
        },
        "outputId": "b1180b67-c94e-450a-e483-774f4d90bc5f"
      },
      "outputs": [
        {
          "output_type": "display_data",
          "data": {
            "text/plain": [
              "<Figure size 1200x500 with 2 Axes>"
            ],
            "image/png": "[encoded data removed]"
          },
          "metadata": {}
        }
      ],
      "source": [
        "fig, axes = plt.subplots(1, 2, figsize=(12, 5))\n",
        "\n",
        "# Tracer l'histogramme pour la colonne \"valeur_fonciere\"\n",
        "sns.histplot(df_paris['valeur_fonciere'], kde=True, color='skyblue', ax=axes[0])\n",
        "axes[0].set_title('Distribution de la valeur foncière')\n",
        "axes[0].set_xlabel('Valeur foncière')\n",
        "axes[0].set_ylabel('Densité')\n",
        "\n",
        "# Tracer l'histogramme pour la colonne \"prix_au_metre_carre\"\n",
        "sns.histplot(df_paris['prix_au_metre_carre'], kde=True, color='lightcoral', ax=axes[1])\n",
        "axes[1].set_title('Distribution du prix au mètre carré')\n",
        "axes[1].set_xlabel('Prix au mètre carré')\n",
        "axes[1].set_ylabel('Densité')\n",
        "\n",
        "# Ajuster la disposition des graphiques\n",
        "plt.tight_layout()\n",
        "\n",
        "# Afficher les graphiques\n",
        "plt.show()"
      ]
    },
    {
      "cell_type": "code",
      "execution_count": null,
      "metadata": {
        "id": "OSXblGi9CPFA",
        "colab": {
          "base_uri": "https://localhost:8080/"
        },
        "outputId": "2d29a7cc-e31b-451d-fe5d-5aac119cc993"
      },
      "outputs": [
        {
          "output_type": "execute_result",
          "data": {
            "text/plain": [
              "99.82000899955003"
            ]
          },
          "metadata": {},
          "execution_count": 217
        }
      ],
      "source": [
        "(df_paris['valeur_fonciere'] <= 1500000).mean() * 100"
      ]
    },
    {
      "cell_type": "markdown",
      "metadata": {
        "id": "QA94Unsv8vzR"
      },
      "source": [
        "On s'aperçoit qu'il y a une forte proportion de biens qui ont une valeur foncière et un prix au mètre carré très faible. Nous nous apercevons rapidement qu'il y a un problème de prix symbolique ou de don. Nous allons le retirer de notre dataset pour faire notre modèle, car ces lignes sont des outliers. Nous retirons les valeurs foncières en dessous de 30000€ et les prix au mètre carré inférieurs à 1000€. On remarque aussi que 99.8% des biens ont une valeur foncière inférieure à 1 500 000€ donc on décide d'éliminer les valeurs plus hautes."
      ]
    },
    {
      "cell_type": "code",
      "execution_count": null,
      "metadata": {
        "id": "eXvmX2_P8mU4"
      },
      "outputs": [],
      "source": [
        "modele1 = df_paris[(df_paris['prix_au_metre_carre'] > 1000) & (df_paris['valeur_fonciere'] > 30000) & (df_paris['valeur_fonciere'] <= 1500000)].copy()"
      ]
    },
    {
      "cell_type": "code",
      "execution_count": null,
      "metadata": {
        "id": "VZ6dWMxCCeqM",
        "colab": {
          "base_uri": "https://localhost:8080/"
        },
        "outputId": "306c77f3-eb57-4c81-d193-745c4e4cbb49"
      },
      "outputs": [
        {
          "output_type": "execute_result",
          "data": {
            "text/plain": [
              "5495"
            ]
          },
          "metadata": {},
          "execution_count": 219
        }
      ],
      "source": [
        "modele1.shape[0]"
      ]
    },
    {
      "cell_type": "markdown",
      "metadata": {
        "id": "uD4_5MWpA9JE"
      },
      "source": [
        "On tombe à 5495 données, et on retrace les distributions, qui sont maintenant sans outlier."
      ]
    },
    {
      "cell_type": "code",
      "execution_count": null,
      "metadata": {
        "id": "eMu8oZsqAbG3",
        "colab": {
          "base_uri": "https://localhost:8080/",
          "height": 275
        },
        "outputId": "f5eea2f2-c164-4f88-b890-fe595053ac20"
      },
      "outputs": [
        {
          "output_type": "display_data",
          "data": {
            "text/plain": [
              "<Figure size 1200x500 with 2 Axes>"
            ],
            "image/png": "[encoded data removed]"
          },
          "metadata": {}
        }
      ],
      "source": [
        "fig, axes = plt.subplots(1, 2, figsize=(12, 5))\n",
        "\n",
        "# Tracer l'histogramme pour la colonne \"valeur_fonciere\"\n",
        "sns.histplot(modele1['valeur_fonciere'], kde=True, color='skyblue', ax=axes[0])\n",
        "axes[0].set_title('Distribution de la valeur foncière')\n",
        "axes[0].set_xlabel('Valeur foncière')\n",
        "axes[0].set_ylabel('Densité')\n",
        "\n",
        "# Tracer l'histogramme pour la colonne \"prix_au_metre_carre\"\n",
        "sns.histplot(modele1['prix_au_metre_carre'], kde=True, color='lightcoral', ax=axes[1])\n",
        "axes[1].set_title('Distribution du prix au mètre carré')\n",
        "axes[1].set_xlabel('Prix au mètre carré')\n",
        "axes[1].set_ylabel('Densité')\n",
        "\n",
        "# Ajuster la disposition des graphiques\n",
        "plt.tight_layout()\n",
        "\n",
        "# Afficher"
      ]
    },
    {
      "cell_type": "markdown",
      "metadata": {
        "id": "QMU8LmMucRmB"
      },
      "source": [
        "On a un pic un peu plus grand, il correspond à 200 000€ et est dû au fait que beaucoup de personnes vendent leur bien à ce prix."
      ]
    },
    {
      "cell_type": "code",
      "execution_count": null,
      "metadata": {
        "id": "5GuRf4SdCspW",
        "colab": {
          "base_uri": "https://localhost:8080/"
        },
        "outputId": "425977f3-26b0-4d0e-9139-9aecb7430511"
      },
      "outputs": [
        {
          "output_type": "execute_result",
          "data": {
            "text/plain": [
              "323218.2456141947"
            ]
          },
          "metadata": {},
          "execution_count": 221
        }
      ],
      "source": [
        "modele1['valeur_fonciere'].mean()"
      ]
    },
    {
      "cell_type": "markdown",
      "metadata": {
        "id": "Xs5UAj1CC33n"
      },
      "source": [
        "Le prix moyen d'un bien est d'environ 323 000€."
      ]
    },
    {
      "cell_type": "code",
      "execution_count": null,
      "metadata": {
        "id": "5NHi4aSUclHR",
        "colab": {
          "base_uri": "https://localhost:8080/"
        },
        "outputId": "c68722f4-04b8-4c59-9921-9d39bfcb13db"
      },
      "outputs": [
        {
          "output_type": "execute_result",
          "data": {
            "text/plain": [
              "['id_mutation',\n",
              " 'date_mutation',\n",
              " 'nature_mutation',\n",
              " 'valeur_fonciere',\n",
              " 'adresse_nom_voie',\n",
              " 'code_commune',\n",
              " 'nom_commune',\n",
              " 'code_departement',\n",
              " 'nombre_lots',\n",
              " 'type_local',\n",
              " 'surface_reelle_bati',\n",
              " 'nombre_pieces_principales',\n",
              " 'longitude',\n",
              " 'latitude',\n",
              " 'prix_au_metre_carre',\n",
              " 'arrondissement',\n",
              " 'nom_station',\n",
              " 'distance_station_plus_proche',\n",
              " 'nom_ev',\n",
              " 'distance_parc_plus_proche',\n",
              " 'note',\n",
              " 'prix_moy_m2_arr',\n",
              " 'mois_vente',\n",
              " 'indicatrice_maison',\n",
              " 'type_voie',\n",
              " 'voie_num',\n",
              " 'arrondissement_01',\n",
              " 'arrondissement_02',\n",
              " 'arrondissement_03',\n",
              " 'arrondissement_04',\n",
              " 'arrondissement_05',\n",
              " 'arrondissement_06',\n",
              " 'arrondissement_07',\n",
              " 'arrondissement_08',\n",
              " 'arrondissement_09',\n",
              " 'arrondissement_10',\n",
              " 'arrondissement_11',\n",
              " 'arrondissement_12',\n",
              " 'arrondissement_13',\n",
              " 'arrondissement_14',\n",
              " 'arrondissement_15',\n",
              " 'arrondissement_16',\n",
              " 'arrondissement_17',\n",
              " 'arrondissement_18',\n",
              " 'arrondissement_19',\n",
              " 'arrondissement_20',\n",
              " 'annonces_arrondissement']"
            ]
          },
          "metadata": {},
          "execution_count": 222
        }
      ],
      "source": [
        "list(df_paris.columns)"
      ]
    },
    {
      "cell_type": "code",
      "execution_count": null,
      "metadata": {
        "id": "Sczaj7jUhsnb"
      },
      "outputs": [],
      "source": [
        "colonnes_a_conserver = ['valeur_fonciere',\n",
        " 'nombre_lots',\n",
        " 'surface_reelle_bati',\n",
        " 'nombre_pieces_principales',\n",
        " 'longitude',\n",
        " 'latitude',\n",
        " 'prix_au_metre_carre',\n",
        " 'distance_station_plus_proche',\n",
        " 'distance_parc_plus_proche',\n",
        " 'note',\n",
        " 'prix_moy_m2_arr',\n",
        " 'indicatrice_maison',\n",
        " 'voie_num',\n",
        " 'arrondissement_01',\n",
        " 'arrondissement_02',\n",
        " 'arrondissement_03',\n",
        " 'arrondissement_04',\n",
        " 'arrondissement_05',\n",
        " 'arrondissement_06',\n",
        " 'arrondissement_07',\n",
        " 'arrondissement_08',\n",
        " 'arrondissement_09',\n",
        " 'arrondissement_10',\n",
        " 'arrondissement_11',\n",
        " 'arrondissement_12',\n",
        " 'arrondissement_13',\n",
        " 'arrondissement_14',\n",
        " 'arrondissement_15',\n",
        " 'arrondissement_16',\n",
        " 'arrondissement_17',\n",
        " 'arrondissement_18',\n",
        " 'arrondissement_19',\n",
        " 'arrondissement_20',\n",
        " 'annonces_arrondissement']"
      ]
    },
    {
      "cell_type": "markdown",
      "metadata": {
        "id": "K5t3pDahE9Bh"
      },
      "source": [
        "On prépare nos vecteurs X et y avec les variables explicatives et la variable expliquée, qui est ici la valeur foncière."
      ]
    },
    {
      "cell_type": "markdown",
      "metadata": {
        "id": "grnZ2Ps4DBLF"
      },
      "source": [
        "On va ensuite sélectionner les colonnes dont on se servira pour nos régressions. On retire aussi valeur_fonciere des variables explicatives."
      ]
    },
    {
      "cell_type": "code",
      "execution_count": null,
      "metadata": {
        "id": "PcryiIxTFGKH"
      },
      "outputs": [],
      "source": [
        "X = modele1.copy()\n",
        "X = X[colonnes_a_conserver]\n",
        "y = X['valeur_fonciere']\n",
        "X = X.drop('valeur_fonciere', axis=1)"
      ]
    },
    {
      "cell_type": "markdown",
      "metadata": {
        "id": "QQK7SUoeF10K"
      },
      "source": [
        "On subdivise la base de données en trois parties : le set d'entraînement (utilisé pour ajuster le modèle), le set de test (pour évaluer les performances), et le set de validation. On prend 20% des données pour l'ensemble de test, et 80% pour l'entrainement, puis 25% de l'entrainement pour la validation."
      ]
    },
    {
      "cell_type": "code",
      "execution_count": null,
      "metadata": {
        "id": "xxc70No6H0pE"
      },
      "outputs": [],
      "source": [
        "from sklearn.model_selection import train_test_split"
      ]
    },
    {
      "cell_type": "code",
      "execution_count": null,
      "metadata": {
        "id": "5jNNAYhZGa3-",
        "colab": {
          "base_uri": "https://localhost:8080/"
        },
        "outputId": "c6b42061-b466-439f-e351-359d913d6cb2"
      },
      "outputs": [
        {
          "output_type": "stream",
          "name": "stdout",
          "text": [
            " X_train shape : (3297, 33)\n",
            " X_val shape : (1099, 33)\n",
            " X_test shape : (1099, 33)\n"
          ]
        }
      ],
      "source": [
        "X, X_test, y, y_test = train_test_split(X, y, test_size=.2, random_state=1)\n",
        "\n",
        "X_train, X_val, y_train, y_val = train_test_split(X, y, test_size=.25, random_state=2)\n",
        "print(f' X_train shape : {X_train.shape}')\n",
        "print(f' X_val shape : {X_val.shape}')\n",
        "print(f' X_test shape : {X_test.shape}')"
      ]
    },
    {
      "cell_type": "markdown",
      "metadata": {
        "id": "ocHsss3VIzq6"
      },
      "source": [
        "## 6.3 Méthode des moindres carrés (OLS)"
      ]
    },
    {
      "cell_type": "markdown",
      "metadata": {
        "id": "9uv4Ti0ZJGX9"
      },
      "source": [
        "On opère la régression par OLS sur X_train."
      ]
    },
    {
      "cell_type": "code",
      "execution_count": null,
      "metadata": {
        "id": "9w7JY2NoJUJi"
      },
      "outputs": [],
      "source": [
        "from sklearn.preprocessing import StandardScaler"
      ]
    },
    {
      "cell_type": "code",
      "execution_count": null,
      "metadata": {
        "id": "T7NSzfDzJDDj",
        "colab": {
          "base_uri": "https://localhost:8080/",
          "height": 1000
        },
        "outputId": "17536013-7e36-4092-adea-5e641f9f355b"
      },
      "outputs": [
        {
          "output_type": "execute_result",
          "data": {
            "text/plain": [
              "<class 'statsmodels.iolib.summary.Summary'>\n",
              "\"\"\"\n",
              "                            OLS Regression Results                            \n",
              "==============================================================================\n",
              "Dep. Variable:                      y   R-squared:                       0.870\n",
              "Model:                            OLS   Adj. R-squared:                  0.869\n",
              "Method:                 Least Squares   F-statistic:                     756.5\n",
              "Date:                Thu, 28 Dec 2023   Prob (F-statistic):               0.00\n",
              "Time:                        17:26:12   Log-Likelihood:                -41667.\n",
              "No. Observations:                3297   AIC:                         8.339e+04\n",
              "Df Residuals:                    3267   BIC:                         8.358e+04\n",
              "Df Model:                          29                                         \n",
              "Covariance Type:            nonrobust                                         \n",
              "================================================================================================\n",
              "                                   coef    std err          t      P>|t|      [0.025      0.975]\n",
              "------------------------------------------------------------------------------------------------\n",
              "const                         3.247e+05   1303.880    249.052      0.000    3.22e+05    3.27e+05\n",
              "nombre_lots                   7459.5610   1344.739      5.547      0.000    4822.945    1.01e+04\n",
              "surface_reelle_bati           1.532e+05   2525.162     60.653      0.000    1.48e+05    1.58e+05\n",
              "nombre_pieces_principales     3.368e+04   2509.433     13.420      0.000    2.88e+04    3.86e+04\n",
              "longitude                    -9556.6761   5235.977     -1.825      0.068   -1.98e+04     709.453\n",
              "latitude                       314.8901   5017.129      0.063      0.950   -9522.146    1.02e+04\n",
              "prix_au_metre_carre           9.935e+04   1359.690     73.068      0.000    9.67e+04    1.02e+05\n",
              "distance_station_plus_proche -1636.7553   1374.667     -1.191      0.234   -4332.052    1058.542\n",
              "distance_parc_plus_proche      394.9358   1398.241      0.282      0.778   -2346.581    3136.452\n",
              "note                          -284.6474   1208.695     -0.235      0.814   -2654.525    2085.230\n",
              "prix_moy_m2_arr              -3080.6041   1338.635     -2.301      0.021   -5705.253    -455.955\n",
              "indicatrice_maison            2097.8266   1322.416      1.586      0.113    -495.022    4690.675\n",
              "voie_num                      2202.9024   1362.032      1.617      0.106    -467.621    4873.426\n",
              "arrondissement_01             1276.3996   1299.244      0.982      0.326   -1271.015    3823.814\n",
              "arrondissement_02              923.2992   1290.609      0.715      0.474   -1607.185    3453.783\n",
              "arrondissement_03             2700.1422   1381.003      1.955      0.051      -7.577    5407.862\n",
              "arrondissement_04               -8.7544   1296.293     -0.007      0.995   -2550.384    2532.875\n",
              "arrondissement_05             -429.6986   1302.149     -0.330      0.741   -2982.809    2123.412\n",
              "arrondissement_06             1098.4104   1246.296      0.881      0.378   -1345.190    3542.010\n",
              "arrondissement_07            -1699.6728   1212.537     -1.402      0.161   -4077.082     677.737\n",
              "arrondissement_08             -630.4037   1384.633     -0.455      0.649   -3345.240    2084.433\n",
              "arrondissement_09            -1773.6652   1470.170     -1.206      0.228   -4656.213    1108.883\n",
              "arrondissement_10             1420.0749   1165.594      1.218      0.223    -865.294    3705.443\n",
              "arrondissement_11             -545.3062   1633.240     -0.334      0.738   -3747.584    2656.971\n",
              "arrondissement_12             3253.8970   1948.657      1.670      0.095    -566.815    7074.609\n",
              "arrondissement_13               57.6258   2332.772      0.025      0.980   -4516.218    4631.469\n",
              "arrondissement_14            -1057.5959   2090.138     -0.506      0.613   -5155.709    3040.517\n",
              "arrondissement_15            -2673.9336   2735.318     -0.978      0.328   -8037.045    2689.178\n",
              "arrondissement_16            -3153.3742   2309.562     -1.365      0.172   -7681.711    1374.962\n",
              "arrondissement_17            -2898.6048   2184.973     -1.327      0.185   -7182.660    1385.450\n",
              "arrondissement_18            -3363.0850   1433.001     -2.347      0.019   -6172.756    -553.414\n",
              "arrondissement_19             1340.7779   1939.238      0.691      0.489   -2461.468    5143.024\n",
              "arrondissement_20             6520.9001   2183.922      2.986      0.003    2238.905    1.08e+04\n",
              "annonces_arrondissement       -600.1885   1131.377     -0.530      0.596   -2818.469    1618.092\n",
              "==============================================================================\n",
              "Omnibus:                     2716.233   Durbin-Watson:                   1.986\n",
              "Prob(Omnibus):                  0.000   Jarque-Bera (JB):           255030.511\n",
              "Skew:                          -3.334   Prob(JB):                         0.00\n",
              "Kurtosis:                      45.568   Cond. No.                     7.87e+15\n",
              "==============================================================================\n",
              "\n",
              "Notes:\n",
              "[1] Standard Errors assume that the covariance matrix of the errors is correctly specified.\n",
              "[2] The smallest eigenvalue is 2.1e-28. This might indicate that there are\n",
              "strong multicollinearity problems or that the design matrix is singular.\n",
              "\"\"\""
            ],
            "text/html": [
              "<table class=\"simpletable\">\n",
              "<caption>OLS Regression Results</caption>\n",
              "<tr>\n",
              "  <th>Dep. Variable:</th>            <td>y</td>        <th>  R-squared:         </th> <td>   0.870</td> \n",
              "</tr>\n",
              "<tr>\n",
              "  <th>Model:</th>                   <td>OLS</td>       <th>  Adj. R-squared:    </th> <td>   0.869</td> \n",
              "</tr>\n",
              "<tr>\n",
              "  <th>Method:</th>             <td>Least Squares</td>  <th>  F-statistic:       </th> <td>   756.5</td> \n",
              "</tr>\n",
              "<tr>\n",
              "  <th>Date:</th>             <td>Thu, 28 Dec 2023</td> <th>  Prob (F-statistic):</th>  <td>  0.00</td>  \n",
              "</tr>\n",
              "<tr>\n",
              "  <th>Time:</th>                 <td>17:26:12</td>     <th>  Log-Likelihood:    </th> <td> -41667.</td> \n",
              "</tr>\n",
              "<tr>\n",
              "  <th>No. Observations:</th>      <td>  3297</td>      <th>  AIC:               </th> <td>8.339e+04</td>\n",
              "</tr>\n",
              "<tr>\n",
              "  <th>Df Residuals:</th>          <td>  3267</td>      <th>  BIC:               </th> <td>8.358e+04</td>\n",
              "</tr>\n",
              "<tr>\n",
              "  <th>Df Model:</th>              <td>    29</td>      <th>                     </th>     <td> </td>    \n",
              "</tr>\n",
              "<tr>\n",
              "  <th>Covariance Type:</th>      <td>nonrobust</td>    <th>                     </th>     <td> </td>    \n",
              "</tr>\n",
              "</table>\n",
              "<table class=\"simpletable\">\n",
              "<tr>\n",
              "                <td></td>                  <th>coef</th>     <th>std err</th>      <th>t</th>      <th>P>|t|</th>  <th>[0.025</th>    <th>0.975]</th>  \n",
              "</tr>\n",
              "<tr>\n",
              "  <th>const</th>                        <td> 3.247e+05</td> <td> 1303.880</td> <td>  249.052</td> <td> 0.000</td> <td> 3.22e+05</td> <td> 3.27e+05</td>\n",
              "</tr>\n",
              "<tr>\n",
              "  <th>nombre_lots</th>                  <td> 7459.5610</td> <td> 1344.739</td> <td>    5.547</td> <td> 0.000</td> <td> 4822.945</td> <td> 1.01e+04</td>\n",
              "</tr>\n",
              "<tr>\n",
              "  <th>surface_reelle_bati</th>          <td> 1.532e+05</td> <td> 2525.162</td> <td>   60.653</td> <td> 0.000</td> <td> 1.48e+05</td> <td> 1.58e+05</td>\n",
              "</tr>\n",
              "<tr>\n",
              "  <th>nombre_pieces_principales</th>    <td> 3.368e+04</td> <td> 2509.433</td> <td>   13.420</td> <td> 0.000</td> <td> 2.88e+04</td> <td> 3.86e+04</td>\n",
              "</tr>\n",
              "<tr>\n",
              "  <th>longitude</th>                    <td>-9556.6761</td> <td> 5235.977</td> <td>   -1.825</td> <td> 0.068</td> <td>-1.98e+04</td> <td>  709.453</td>\n",
              "</tr>\n",
              "<tr>\n",
              "  <th>latitude</th>                     <td>  314.8901</td> <td> 5017.129</td> <td>    0.063</td> <td> 0.950</td> <td>-9522.146</td> <td> 1.02e+04</td>\n",
              "</tr>\n",
              "<tr>\n",
              "  <th>prix_au_metre_carre</th>          <td> 9.935e+04</td> <td> 1359.690</td> <td>   73.068</td> <td> 0.000</td> <td> 9.67e+04</td> <td> 1.02e+05</td>\n",
              "</tr>\n",
              "<tr>\n",
              "  <th>distance_station_plus_proche</th> <td>-1636.7553</td> <td> 1374.667</td> <td>   -1.191</td> <td> 0.234</td> <td>-4332.052</td> <td> 1058.542</td>\n",
              "</tr>\n",
              "<tr>\n",
              "  <th>distance_parc_plus_proche</th>    <td>  394.9358</td> <td> 1398.241</td> <td>    0.282</td> <td> 0.778</td> <td>-2346.581</td> <td> 3136.452</td>\n",
              "</tr>\n",
              "<tr>\n",
              "  <th>note</th>                         <td> -284.6474</td> <td> 1208.695</td> <td>   -0.235</td> <td> 0.814</td> <td>-2654.525</td> <td> 2085.230</td>\n",
              "</tr>\n",
              "<tr>\n",
              "  <th>prix_moy_m2_arr</th>              <td>-3080.6041</td> <td> 1338.635</td> <td>   -2.301</td> <td> 0.021</td> <td>-5705.253</td> <td> -455.955</td>\n",
              "</tr>\n",
              "<tr>\n",
              "  <th>indicatrice_maison</th>           <td> 2097.8266</td> <td> 1322.416</td> <td>    1.586</td> <td> 0.113</td> <td> -495.022</td> <td> 4690.675</td>\n",
              "</tr>\n",
              "<tr>\n",
              "  <th>voie_num</th>                     <td> 2202.9024</td> <td> 1362.032</td> <td>    1.617</td> <td> 0.106</td> <td> -467.621</td> <td> 4873.426</td>\n",
              "</tr>\n",
              "<tr>\n",
              "  <th>arrondissement_01</th>            <td> 1276.3996</td> <td> 1299.244</td> <td>    0.982</td> <td> 0.326</td> <td>-1271.015</td> <td> 3823.814</td>\n",
              "</tr>\n",
              "<tr>\n",
              "  <th>arrondissement_02</th>            <td>  923.2992</td> <td> 1290.609</td> <td>    0.715</td> <td> 0.474</td> <td>-1607.185</td> <td> 3453.783</td>\n",
              "</tr>\n",
              "<tr>\n",
              "  <th>arrondissement_03</th>            <td> 2700.1422</td> <td> 1381.003</td> <td>    1.955</td> <td> 0.051</td> <td>   -7.577</td> <td> 5407.862</td>\n",
              "</tr>\n",
              "<tr>\n",
              "  <th>arrondissement_04</th>            <td>   -8.7544</td> <td> 1296.293</td> <td>   -0.007</td> <td> 0.995</td> <td>-2550.384</td> <td> 2532.875</td>\n",
              "</tr>\n",
              "<tr>\n",
              "  <th>arrondissement_05</th>            <td> -429.6986</td> <td> 1302.149</td> <td>   -0.330</td> <td> 0.741</td> <td>-2982.809</td> <td> 2123.412</td>\n",
              "</tr>\n",
              "<tr>\n",
              "  <th>arrondissement_06</th>            <td> 1098.4104</td> <td> 1246.296</td> <td>    0.881</td> <td> 0.378</td> <td>-1345.190</td> <td> 3542.010</td>\n",
              "</tr>\n",
              "<tr>\n",
              "  <th>arrondissement_07</th>            <td>-1699.6728</td> <td> 1212.537</td> <td>   -1.402</td> <td> 0.161</td> <td>-4077.082</td> <td>  677.737</td>\n",
              "</tr>\n",
              "<tr>\n",
              "  <th>arrondissement_08</th>            <td> -630.4037</td> <td> 1384.633</td> <td>   -0.455</td> <td> 0.649</td> <td>-3345.240</td> <td> 2084.433</td>\n",
              "</tr>\n",
              "<tr>\n",
              "  <th>arrondissement_09</th>            <td>-1773.6652</td> <td> 1470.170</td> <td>   -1.206</td> <td> 0.228</td> <td>-4656.213</td> <td> 1108.883</td>\n",
              "</tr>\n",
              "<tr>\n",
              "  <th>arrondissement_10</th>            <td> 1420.0749</td> <td> 1165.594</td> <td>    1.218</td> <td> 0.223</td> <td> -865.294</td> <td> 3705.443</td>\n",
              "</tr>\n",
              "<tr>\n",
              "  <th>arrondissement_11</th>            <td> -545.3062</td> <td> 1633.240</td> <td>   -0.334</td> <td> 0.738</td> <td>-3747.584</td> <td> 2656.971</td>\n",
              "</tr>\n",
              "<tr>\n",
              "  <th>arrondissement_12</th>            <td> 3253.8970</td> <td> 1948.657</td> <td>    1.670</td> <td> 0.095</td> <td> -566.815</td> <td> 7074.609</td>\n",
              "</tr>\n",
              "<tr>\n",
              "  <th>arrondissement_13</th>            <td>   57.6258</td> <td> 2332.772</td> <td>    0.025</td> <td> 0.980</td> <td>-4516.218</td> <td> 4631.469</td>\n",
              "</tr>\n",
              "<tr>\n",
              "  <th>arrondissement_14</th>            <td>-1057.5959</td> <td> 2090.138</td> <td>   -0.506</td> <td> 0.613</td> <td>-5155.709</td> <td> 3040.517</td>\n",
              "</tr>\n",
              "<tr>\n",
              "  <th>arrondissement_15</th>            <td>-2673.9336</td> <td> 2735.318</td> <td>   -0.978</td> <td> 0.328</td> <td>-8037.045</td> <td> 2689.178</td>\n",
              "</tr>\n",
              "<tr>\n",
              "  <th>arrondissement_16</th>            <td>-3153.3742</td> <td> 2309.562</td> <td>   -1.365</td> <td> 0.172</td> <td>-7681.711</td> <td> 1374.962</td>\n",
              "</tr>\n",
              "<tr>\n",
              "  <th>arrondissement_17</th>            <td>-2898.6048</td> <td> 2184.973</td> <td>   -1.327</td> <td> 0.185</td> <td>-7182.660</td> <td> 1385.450</td>\n",
              "</tr>\n",
              "<tr>\n",
              "  <th>arrondissement_18</th>            <td>-3363.0850</td> <td> 1433.001</td> <td>   -2.347</td> <td> 0.019</td> <td>-6172.756</td> <td> -553.414</td>\n",
              "</tr>\n",
              "<tr>\n",
              "  <th>arrondissement_19</th>            <td> 1340.7779</td> <td> 1939.238</td> <td>    0.691</td> <td> 0.489</td> <td>-2461.468</td> <td> 5143.024</td>\n",
              "</tr>\n",
              "<tr>\n",
              "  <th>arrondissement_20</th>            <td> 6520.9001</td> <td> 2183.922</td> <td>    2.986</td> <td> 0.003</td> <td> 2238.905</td> <td> 1.08e+04</td>\n",
              "</tr>\n",
              "<tr>\n",
              "  <th>annonces_arrondissement</th>      <td> -600.1885</td> <td> 1131.377</td> <td>   -0.530</td> <td> 0.596</td> <td>-2818.469</td> <td> 1618.092</td>\n",
              "</tr>\n",
              "</table>\n",
              "<table class=\"simpletable\">\n",
              "<tr>\n",
              "  <th>Omnibus:</th>       <td>2716.233</td> <th>  Durbin-Watson:     </th>  <td>   1.986</td> \n",
              "</tr>\n",
              "<tr>\n",
              "  <th>Prob(Omnibus):</th>  <td> 0.000</td>  <th>  Jarque-Bera (JB):  </th> <td>255030.511</td>\n",
              "</tr>\n",
              "<tr>\n",
              "  <th>Skew:</th>           <td>-3.334</td>  <th>  Prob(JB):          </th>  <td>    0.00</td> \n",
              "</tr>\n",
              "<tr>\n",
              "  <th>Kurtosis:</th>       <td>45.568</td>  <th>  Cond. No.          </th>  <td>7.87e+15</td> \n",
              "</tr>\n",
              "</table><br/><br/>Notes:<br/>[1] Standard Errors assume that the covariance matrix of the errors is correctly specified.<br/>[2] The smallest eigenvalue is 2.1e-28. This might indicate that there are<br/>strong multicollinearity problems or that the design matrix is singular."
            ],
            "text/latex": "\\begin{center}\n\\begin{tabular}{lclc}\n\\toprule\n\\textbf{Dep. Variable:}                  &        y         & \\textbf{  R-squared:         } &     0.870   \\\\\n\\textbf{Model:}                          &       OLS        & \\textbf{  Adj. R-squared:    } &     0.869   \\\\\n\\textbf{Method:}                         &  Least Squares   & \\textbf{  F-statistic:       } &     756.5   \\\\\n\\textbf{Date:}                           & Thu, 28 Dec 2023 & \\textbf{  Prob (F-statistic):} &     0.00    \\\\\n\\textbf{Time:}                           &     17:26:12     & \\textbf{  Log-Likelihood:    } &   -41667.   \\\\\n\\textbf{No. Observations:}               &        3297      & \\textbf{  AIC:               } & 8.339e+04   \\\\\n\\textbf{Df Residuals:}                   &        3267      & \\textbf{  BIC:               } & 8.358e+04   \\\\\n\\textbf{Df Model:}                       &          29      & \\textbf{                     } &             \\\\\n\\textbf{Covariance Type:}                &    nonrobust     & \\textbf{                     } &             \\\\\n\\bottomrule\n\\end{tabular}\n\\begin{tabular}{lcccccc}\n                                         & \\textbf{coef} & \\textbf{std err} & \\textbf{t} & \\textbf{P$> |$t$|$} & \\textbf{[0.025} & \\textbf{0.975]}  \\\\\n\\midrule\n\\textbf{const}                           &    3.247e+05  &     1303.880     &   249.052  &         0.000        &     3.22e+05    &     3.27e+05     \\\\\n\\textbf{nombre\\_lots}                    &    7459.5610  &     1344.739     &     5.547  &         0.000        &     4822.945    &     1.01e+04     \\\\\n\\textbf{surface\\_reelle\\_bati}           &    1.532e+05  &     2525.162     &    60.653  &         0.000        &     1.48e+05    &     1.58e+05     \\\\\n\\textbf{nombre\\_pieces\\_principales}     &    3.368e+04  &     2509.433     &    13.420  &         0.000        &     2.88e+04    &     3.86e+04     \\\\\n\\textbf{longitude}                       &   -9556.6761  &     5235.977     &    -1.825  &         0.068        &    -1.98e+04    &      709.453     \\\\\n\\textbf{latitude}                        &     314.8901  &     5017.129     &     0.063  &         0.950        &    -9522.146    &     1.02e+04     \\\\\n\\textbf{prix\\_au\\_metre\\_carre}          &    9.935e+04  &     1359.690     &    73.068  &         0.000        &     9.67e+04    &     1.02e+05     \\\\\n\\textbf{distance\\_station\\_plus\\_proche} &   -1636.7553  &     1374.667     &    -1.191  &         0.234        &    -4332.052    &     1058.542     \\\\\n\\textbf{distance\\_parc\\_plus\\_proche}    &     394.9358  &     1398.241     &     0.282  &         0.778        &    -2346.581    &     3136.452     \\\\\n\\textbf{note}                            &    -284.6474  &     1208.695     &    -0.235  &         0.814        &    -2654.525    &     2085.230     \\\\\n\\textbf{prix\\_moy\\_m2\\_arr}              &   -3080.6041  &     1338.635     &    -2.301  &         0.021        &    -5705.253    &     -455.955     \\\\\n\\textbf{indicatrice\\_maison}             &    2097.8266  &     1322.416     &     1.586  &         0.113        &     -495.022    &     4690.675     \\\\\n\\textbf{voie\\_num}                       &    2202.9024  &     1362.032     &     1.617  &         0.106        &     -467.621    &     4873.426     \\\\\n\\textbf{arrondissement\\_01}              &    1276.3996  &     1299.244     &     0.982  &         0.326        &    -1271.015    &     3823.814     \\\\\n\\textbf{arrondissement\\_02}              &     923.2992  &     1290.609     &     0.715  &         0.474        &    -1607.185    &     3453.783     \\\\\n\\textbf{arrondissement\\_03}              &    2700.1422  &     1381.003     &     1.955  &         0.051        &       -7.577    &     5407.862     \\\\\n\\textbf{arrondissement\\_04}              &      -8.7544  &     1296.293     &    -0.007  &         0.995        &    -2550.384    &     2532.875     \\\\\n\\textbf{arrondissement\\_05}              &    -429.6986  &     1302.149     &    -0.330  &         0.741        &    -2982.809    &     2123.412     \\\\\n\\textbf{arrondissement\\_06}              &    1098.4104  &     1246.296     &     0.881  &         0.378        &    -1345.190    &     3542.010     \\\\\n\\textbf{arrondissement\\_07}              &   -1699.6728  &     1212.537     &    -1.402  &         0.161        &    -4077.082    &      677.737     \\\\\n\\textbf{arrondissement\\_08}              &    -630.4037  &     1384.633     &    -0.455  &         0.649        &    -3345.240    &     2084.433     \\\\\n\\textbf{arrondissement\\_09}              &   -1773.6652  &     1470.170     &    -1.206  &         0.228        &    -4656.213    &     1108.883     \\\\\n\\textbf{arrondissement\\_10}              &    1420.0749  &     1165.594     &     1.218  &         0.223        &     -865.294    &     3705.443     \\\\\n\\textbf{arrondissement\\_11}              &    -545.3062  &     1633.240     &    -0.334  &         0.738        &    -3747.584    &     2656.971     \\\\\n\\textbf{arrondissement\\_12}              &    3253.8970  &     1948.657     &     1.670  &         0.095        &     -566.815    &     7074.609     \\\\\n\\textbf{arrondissement\\_13}              &      57.6258  &     2332.772     &     0.025  &         0.980        &    -4516.218    &     4631.469     \\\\\n\\textbf{arrondissement\\_14}              &   -1057.5959  &     2090.138     &    -0.506  &         0.613        &    -5155.709    &     3040.517     \\\\\n\\textbf{arrondissement\\_15}              &   -2673.9336  &     2735.318     &    -0.978  &         0.328        &    -8037.045    &     2689.178     \\\\\n\\textbf{arrondissement\\_16}              &   -3153.3742  &     2309.562     &    -1.365  &         0.172        &    -7681.711    &     1374.962     \\\\\n\\textbf{arrondissement\\_17}              &   -2898.6048  &     2184.973     &    -1.327  &         0.185        &    -7182.660    &     1385.450     \\\\\n\\textbf{arrondissement\\_18}              &   -3363.0850  &     1433.001     &    -2.347  &         0.019        &    -6172.756    &     -553.414     \\\\\n\\textbf{arrondissement\\_19}              &    1340.7779  &     1939.238     &     0.691  &         0.489        &    -2461.468    &     5143.024     \\\\\n\\textbf{arrondissement\\_20}              &    6520.9001  &     2183.922     &     2.986  &         0.003        &     2238.905    &     1.08e+04     \\\\\n\\textbf{annonces\\_arrondissement}        &    -600.1885  &     1131.377     &    -0.530  &         0.596        &    -2818.469    &     1618.092     \\\\\n\\bottomrule\n\\end{tabular}\n\\begin{tabular}{lclc}\n\\textbf{Omnibus:}       & 2716.233 & \\textbf{  Durbin-Watson:     } &     1.986   \\\\\n\\textbf{Prob(Omnibus):} &   0.000  & \\textbf{  Jarque-Bera (JB):  } & 255030.511  \\\\\n\\textbf{Skew:}          &  -3.334  & \\textbf{  Prob(JB):          } &      0.00   \\\\\n\\textbf{Kurtosis:}      &  45.568  & \\textbf{  Cond. No.          } &  7.87e+15   \\\\\n\\bottomrule\n\\end{tabular}\n%\\caption{OLS Regression Results}\n\\end{center}\n\nNotes: \\newline\n [1] Standard Errors assume that the covariance matrix of the errors is correctly specified. \\newline\n [2] The smallest eigenvalue is 2.1e-28. This might indicate that there are \\newline\n strong multicollinearity problems or that the design matrix is singular."
          },
          "metadata": {},
          "execution_count": 235
        }
      ],
      "source": [
        "std = StandardScaler()\n",
        "std.fit(X_train.values)\n",
        "X_train_scaled = std.transform(X_train.values)\n",
        "X_val_scaled = std.transform(X_val.values)\n",
        "train_df = pd.DataFrame(X_train_scaled, columns=X_train.columns)\n",
        "model = sm.OLS(np.array(y_train), sm.add_constant(train_df))\n",
        "\n",
        "fit = model.fit()\n",
        "fit.summary()"
      ]
    },
    {
      "cell_type": "markdown",
      "metadata": {
        "id": "mrdxBdHzKJ2e"
      },
      "source": [
        "On remarque plusieurs choses : le R² est de 0.87, ce qui suggère que les variables explicatives permettent plutôt bien de décrire les valeurs foncières. On remarque que nous avons certaines p-values à 0.000 ou très faibles, et donc une très forte significativité de celles-ci. Cependant, nous avons également des variables beaucoup moins significatives, comme la latitude, la distance à l'espaces vert le plus proche, ou encore la note de l'arrondissement. On remarque également, que contrairement à la latitude, la longitude est assez significative. Cela s'explique par le fait que les arrondissements les plus chers se situent plutot dans l'ouest parisien, et que le sud ou le nord n'impactent peu. De plus, on remarque que l'indicatrice des arrondissements est très significative dans certains, comme le 18e ou le 20e, mais pas du tout dans le 13e ou le 4e. On remarque aussi que les coefficients les plus grands sont la surface réelle du bien, le nombre de pièces et le prix au mètre carré, ce qui est cohérent. Le coefficient de la distance à la station la plus proche est négatif et de -1636, ce qui signifie qu'en moyenne, pour chaque unité d'augmentation de la distance à la station de métro la plus proche, la valeur du bien immobilier diminue de 1636€, toutes choses égales par ailleurs, ce qui est cohérent, car avoir des transports accessibles est un avantage. En revanche, le coefficient de la distance à l'espace vert le plus proche est positif, ce qui signifie que plus on est loin d'un espace vert, plus le bien est cher. Cela parait incohérent, mais comme la p-valeur est de 0.778, ce coefficient n'est pas significatif."
      ]
    },
    {
      "cell_type": "markdown",
      "metadata": {
        "id": "ightnwZEK3EM"
      },
      "source": [
        "## 6.4 Régression avec Scikit-Learn"
      ]
    },
    {
      "cell_type": "markdown",
      "source": [
        "On commence par définir l'erreur absolue moyenne entre les valeurs réelles et les valeurs prédites. Cette métrique permet d'évaluer la précision du modèle, et plus elle se rapproche de zéro, plus le modèle est précis. Il est important de noter que cette mesure est exprimée dans la même unité que les valeurs du modèle. Par conséquent, pour évaluer précisément la précision, il est recommandé de la comparer aux valeurs réelles, notamment aux prix dans ce contexte."
      ],
      "metadata": {
        "id": "C6sB2SHhiiqB"
      }
    },
    {
      "cell_type": "code",
      "execution_count": null,
      "metadata": {
        "id": "oWbzdiy_LWIr"
      },
      "outputs": [],
      "source": [
        "from sklearn.linear_model import LinearRegression\n",
        "from sklearn.metrics import mean_absolute_error"
      ]
    },
    {
      "cell_type": "code",
      "source": [
        "def ema_score(pred, actual):\n",
        "    return np.mean(np.abs(np.exp(actual) - np.exp(pred)))"
      ],
      "metadata": {
        "id": "g565MpAyisrJ"
      },
      "execution_count": null,
      "outputs": []
    },
    {
      "cell_type": "code",
      "execution_count": null,
      "metadata": {
        "id": "-gqoNO2_K2k1",
        "colab": {
          "base_uri": "https://localhost:8080/"
        },
        "outputId": "9b2ef521-a16b-476a-cbaa-6f2bc037ceaa"
      },
      "outputs": [
        {
          "output_type": "stream",
          "name": "stdout",
          "text": [
            "Linear Regression (train) R^2: 0.8703865035052486\n",
            "Linear Regression (validation) R^2: 0.8745852689684499\n",
            "\n",
            " EMA du Train: 46805.7375\n",
            "EMA de Validation: 46533.6158\n"
          ]
        }
      ],
      "source": [
        "lr = LinearRegression()\n",
        "\n",
        "lr.fit(X_train_scaled, y_train)\n",
        "\n",
        "train_pred = lr.predict(X_train_scaled)\n",
        "val_pred = lr.predict(X_val_scaled)\n",
        "\n",
        "print(f'Linear Regression (train) R^2: {lr.score(X_train_scaled, y_train)}')\n",
        "print(f'Linear Regression (validation) R^2: {lr.score(X_val_scaled, y_val)}')\n",
        "\n",
        "print(\"\\n EMA du Train:\", round(mean_absolute_error(y_train, train_pred),4))\n",
        "print(\"EMA de Validation:\", round(mean_absolute_error(y_val, val_pred),4))"
      ]
    },
    {
      "cell_type": "markdown",
      "source": [
        "On constate que les R² sont de 0.87 comme dans l'autre régression. L'erreur moyenne absolue est d'environ 46000€, ce qui est une erreur correcte comparée à la valeur foncière moyenne calculée plus haut. On peut alors dire que le modèle est d'une précision correcte."
      ],
      "metadata": {
        "id": "nCkjyBl6iwZe"
      }
    },
    {
      "cell_type": "markdown",
      "source": [
        "Traçons maintenant les valeurs foncières réelles comparées à celles prédites."
      ],
      "metadata": {
        "id": "jaSj9AUVjini"
      }
    },
    {
      "cell_type": "code",
      "source": [
        "plt.figure(figsize=(10, 8))\n",
        "\n",
        "plt.xlim(-2e5, 1.6e6)\n",
        "plt.ylim(-2e5, 1.6e6)\n",
        "plt.plot([-2e5, 1.6e6], [-2e5, 1.6e6], label='Identité', linestyle='--', color='gray')\n",
        "\n",
        "plt.scatter(val_pred, y_val, alpha=0.4, label='Prédiction')\n",
        "\n",
        "sns.despine()\n",
        "\n",
        "plt.ylabel('Valeur foncière réelle', size=15)\n",
        "plt.xlabel('Valeur foncière prédite', size=15)\n",
        "plt.title('Valeurs foncières réelles contre valeurs foncières prédites (Régression Linéaire)', size=18)\n",
        "\n",
        "plt.legend()\n",
        "\n",
        "plt.savefig('actual_plot', bbox_inches='tight', dpi=400)\n",
        "plt.show()"
      ],
      "metadata": {
        "colab": {
          "base_uri": "https://localhost:8080/",
          "height": 472
        },
        "id": "lJPqkfZXkOR0",
        "outputId": "99bd574e-6d7e-4fb7-afd3-bfeb00cb5e92"
      },
      "execution_count": null,
      "outputs": [
        {
          "output_type": "display_data",
          "data": {
            "text/plain": [
              "<Figure size 1000x800 with 1 Axes>"
            ],
            "image/png": "[encoded data removed]"
          },
          "metadata": {}
        }
      ]
    },
    {
      "cell_type": "markdown",
      "source": [
        "Les prédictions sont assez proches de la fonction identité, ce qui est cohérent avec le R² de 0.87. Cependant, on observe que le modèle est très satisfaisant pour les prix entre 50 000€ et 600 000€, mais qu'au delà, il y a une dispersion, avec une valeur foncière prédite plus faible que la valeur foncière réelle."
      ],
      "metadata": {
        "id": "Ecwt6d9Hk9QX"
      }
    },
    {
      "cell_type": "markdown",
      "source": [
        "Traçons maintenant la distribution des résidus."
      ],
      "metadata": {
        "id": "eqEobR6rlvdz"
      }
    },
    {
      "cell_type": "code",
      "source": [
        "plt.figure(figsize=(12,8))\n",
        "sns.distplot(y_val - val_pred)\n",
        "plt.title('Distribution des résidus', size = 18)\n",
        "plt.xlabel('Difference', size = 15);\n",
        "plt.ylabel('Densité', size = 15);\n",
        "plt.savefig('residuals', bbox_inches ='tight', dpi = 400);"
      ],
      "metadata": {
        "colab": {
          "base_uri": "https://localhost:8080/",
          "height": 466
        },
        "id": "B-C-m5ZOl48P",
        "outputId": "459ecea2-6c2e-4a92-a764-131cd131989e"
      },
      "execution_count": null,
      "outputs": [
        {
          "output_type": "display_data",
          "data": {
            "text/plain": [
              "<Figure size 1200x800 with 1 Axes>"
            ],
            "image/png": "[encoded data removed]"
          },
          "metadata": {}
        }
      ]
    },
    {
      "cell_type": "markdown",
      "source": [
        "Les résidus sont distribués selon une loi normale centrée en 0, ce qui est cohérent avec l'hypothèse habituelle de normalité des erreurs."
      ],
      "metadata": {
        "id": "FVp6Bys3mNlN"
      }
    },
    {
      "cell_type": "markdown",
      "source": [
        "## 6.5 Importance de chaque coefficient"
      ],
      "metadata": {
        "id": "NfpCrbAFqQTG"
      }
    },
    {
      "cell_type": "code",
      "source": [
        "X_train.columns"
      ],
      "metadata": {
        "colab": {
          "base_uri": "https://localhost:8080/"
        },
        "id": "CmlusE8Tr4Np",
        "outputId": "0260fde7-2820-44b0-f75e-a58e1b91623d"
      },
      "execution_count": null,
      "outputs": [
        {
          "output_type": "execute_result",
          "data": {
            "text/plain": [
              "Index(['nombre_lots', 'surface_reelle_bati', 'nombre_pieces_principales',\n",
              "       'longitude', 'latitude', 'prix_au_metre_carre',\n",
              "       'distance_station_plus_proche', 'distance_parc_plus_proche', 'note',\n",
              "       'prix_moy_m2_arr', 'indicatrice_maison', 'voie_num',\n",
              "       'arrondissement_01', 'arrondissement_02', 'arrondissement_03',\n",
              "       'arrondissement_04', 'arrondissement_05', 'arrondissement_06',\n",
              "       'arrondissement_07', 'arrondissement_08', 'arrondissement_09',\n",
              "       'arrondissement_10', 'arrondissement_11', 'arrondissement_12',\n",
              "       'arrondissement_13', 'arrondissement_14', 'arrondissement_15',\n",
              "       'arrondissement_16', 'arrondissement_17', 'arrondissement_18',\n",
              "       'arrondissement_19', 'arrondissement_20', 'annonces_arrondissement'],\n",
              "      dtype='object')"
            ]
          },
          "metadata": {},
          "execution_count": 258
        }
      ]
    }
  ],
  "metadata": {
    "colab": {
      "collapsed_sections": [
        "Yq_LTzev-hKa",
        "Y4vp5S04-wKk",
        "lhcN5ZAxB858",
        "XiH-8FwaEjG6",
        "R0WOzYtpDDzx",
        "8VRhXCzKFau7",
        "DP_mKOCAIF7M",
        "EehI2I2C1sjv",
        "PwHgYItoove8",
        "Pz1esdI52cIe",
        "ZKz_mAmZ2h2L",
        "Q7UIwG5p7JxM",
        "fEvbHgqcc9Z6",
        "kZoI_7vohx4x"
      ],
      "provenance": []
    },
    "kernelspec": {
      "display_name": "Python 3",
      "name": "python3"
    },
    "language_info": {
      "name": "python"
    }
  },
  "nbformat": 4,
  "nbformat_minor": 0
}
